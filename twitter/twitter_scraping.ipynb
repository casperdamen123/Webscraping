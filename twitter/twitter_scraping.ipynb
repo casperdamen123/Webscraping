{
 "cells": [
  {
   "cell_type": "markdown",
   "metadata": {},
   "source": [
    "# Analyze effect of time of posting"
   ]
  },
  {
   "cell_type": "code",
   "execution_count": 27,
   "metadata": {},
   "outputs": [],
   "source": [
    "import pandas as pd\n",
    "import numpy as np\n",
    "import seaborn as sns\n",
    "import matplotlib.pyplot as plt\n",
    "import tweepy as tw\n",
    "import datetime as dt\n",
    "from matplotlib.ticker import MaxNLocator\n",
    "from statsmodels.api import OLS\n",
    "import json\n",
    "%matplotlib inline"
   ]
  },
  {
   "cell_type": "markdown",
   "metadata": {},
   "source": [
    "## Get data from Twitter API"
   ]
  },
  {
   "cell_type": "markdown",
   "metadata": {},
   "source": [
    "**Setup API credentials**"
   ]
  },
  {
   "cell_type": "code",
   "execution_count": 28,
   "metadata": {},
   "outputs": [],
   "source": [
    "class ConnectAPI:\n",
    "    \"\"\"\n",
    "    - consumer_key: The consumer key from the Twitter developer account (str)\n",
    "    - consumer_secret: The consumer secret key from the Twitter developer account (str)\n",
    "    - access_token: The access token from the Twitter developer account (str)\n",
    "    - access_token_secret: The access token secret from the Twitter developer account (str)\n",
    "    \"\"\"\n",
    "    \n",
    "    #Insert API keys\n",
    "    def __init__(self, consumer_key, consumer_secret, access_token, access_token_secret):\n",
    "        self.consumer_key = consumer_key\n",
    "        self.consumer_secret = consumer_secret\n",
    "        self.access_token = access_token\n",
    "        self.access_token_secret = access_token_secret\n",
    "        \n",
    "    #Authenticate and connect to Twitter\n",
    "    def connect(self):\n",
    "        self.auth = tw.OAuthHandler(self.consumer_key, self.consumer_secret)\n",
    "        self.auth.set_access_token(self.access_token, self.access_token_secret)\n",
    "        #Setup API connection\n",
    "        self.api = tw.API(self.auth, parser=tw.parsers.JSONParser())\n",
    "        #Verify connection\n",
    "        try:\n",
    "            self.api.verify_credentials()\n",
    "            print(\"Authentication OK\")\n",
    "        except:\n",
    "            print(\"Error during authentication\")   \n",
    "        return self.api"
   ]
  },
  {
   "cell_type": "code",
   "execution_count": 30,
   "metadata": {},
   "outputs": [
    {
     "name": "stdout",
     "output_type": "stream",
     "text": [
      "Authentication OK\n"
     ]
    }
   ],
   "source": [
    "#Load JSON with tokens\n",
    "keys_dict = json.load(open('tokens.json'))\n",
    "\n",
    "#Setup credentials\n",
    "api_credentials = ConnectAPI(consumer_key= keys_dict['consumer_key'],\n",
    "                             consumer_secret= keys_dict['consumer_secret'],\n",
    "                             access_token= keys_dict['access_token'],\n",
    "                             access_token_secret= keys_dict['access_token_secret'])\n",
    "#Authenticate and connect\n",
    "api_connection = api_credentials.connect()"
   ]
  },
  {
   "cell_type": "markdown",
   "metadata": {},
   "source": [
    "**Retrieve user timeline**"
   ]
  },
  {
   "cell_type": "code",
   "execution_count": 31,
   "metadata": {},
   "outputs": [],
   "source": [
    "class RetrieveTwitterData:\n",
    "    \"\"\"\n",
    "    - user_name: The name of the Twitter handle for the account (str)\n",
    "    - max_post_id: The latest post ID you would like to capture (int)\n",
    "    - start_date: The date from which to start gathering the Tweet information, up until max_post_id (str)\n",
    "    - api: The api connection to use (tweepy API object)\n",
    "    \"\"\"\n",
    "    \n",
    "    def __init__(self, user_name, max_post_id, start_date, api):\n",
    "            \n",
    "            self.user_name=user_name\n",
    "            self.max_post_id=max_post_id\n",
    "            self.start_date=start_date\n",
    "            self.api = api\n",
    "     \n",
    "    #Function to retrieve data from timeline\n",
    "    def data_from_timeline(self):\n",
    "\n",
    "        #Create emtpy dataframe to append to\n",
    "        self.full_df=pd.DataFrame(columns=['timestamp_post', 'tweet_id', 'tweet_url', 'outlink_url' \n",
    "                                           'tweet_text', 'retweet_count', 'favorite_count'])\n",
    "\n",
    "        #Keep running until minimim post ID is reached (duplicate id is reached)\n",
    "        while (np.isnan(self.full_df['tweet_id'].min())) or (pd.to_datetime(self.full_df['timestamp_post']).dt.date.min() > pd.to_datetime(self.start_date)):\n",
    "                     \n",
    "            self.timeline = self.api.user_timeline(id=self.user_name,\n",
    "                                                   max_id=self.max_post_id,\n",
    "                                                   exclude_replies=1, \n",
    "                                                   include_rts=0)\n",
    "\n",
    "            #Create lists to capture timestamp, Tweet ID, Tweet URL, retweet count and favorite count\n",
    "            timestamp_post = []\n",
    "            tweet_id = []\n",
    "            tweet_url = []\n",
    "            outlink_url = []\n",
    "            tweet_text = []\n",
    "            retweet_count = []\n",
    "            favorite_count = []\n",
    "\n",
    "\n",
    "            #Loop through tweets and capture information\n",
    "            for tweet in self.timeline:                \n",
    "                #Capture timestamp, Tweet URL, retweet and favorite count\n",
    "                timestamp_post.append(tweet['created_at'])\n",
    "                tweet_id.append(tweet['id'])\n",
    "                tweet_url.append('https://twitter.com/MinBZ/status/{}'.format(tweet['id']))\n",
    "                outlink_url.append(tweet['user']['entities']['url']['urls'][0]['expanded_url'])\n",
    "                tweet_text.append(tweet['text'])\n",
    "                retweet_count.append(tweet['retweet_count'])\n",
    "                favorite_count.append(tweet['favorite_count']) \n",
    "\n",
    "            #Create partial_df for the round\n",
    "            self.partial_df = pd.DataFrame({'timestamp_post': timestamp_post,\n",
    "                                            'tweet_id' : tweet_id,\n",
    "                                            'tweet_url':  tweet_url,\n",
    "                                            'outlink_url': outlink_url\n",
    "                                            'tweet_text': tweet_text,\n",
    "                                            'retweet_count': retweet_count,\n",
    "                                            'favorite_count': favorite_count\n",
    "                                            }\n",
    "                                          )\n",
    "\n",
    "            #Concatenate partial_df to full_df\n",
    "            self.full_df = pd.concat([self.full_df, self.partial_df])\n",
    "\n",
    "            #Set maximum post_id to oldest retreived post_id\n",
    "            self.max_post_id = self.full_df['tweet_id'].min() \n",
    "\n",
    "        return self.full_df[~self.full_df['tweet_id'].duplicated()]"
   ]
  },
  {
   "cell_type": "code",
   "execution_count": 32,
   "metadata": {
    "scrolled": false
   },
   "outputs": [],
   "source": [
    "#Specify data request\n",
    "data_request = RetrieveTwitterData(user_name='MinBZ',\n",
    "                                   max_post_id=1318912816988946433, \n",
    "                                   start_date='2020-10-20',\n",
    "                                   api=api_connection\n",
    "                                  )"
   ]
  },
  {
   "cell_type": "code",
   "execution_count": 33,
   "metadata": {},
   "outputs": [],
   "source": [
    "#Create dataframe\n",
    "df = data_request.data_from_timeline()"
   ]
  },
  {
   "cell_type": "code",
   "execution_count": 34,
   "metadata": {
    "scrolled": true
   },
   "outputs": [
    {
     "data": {
      "text/html": [
       "<div>\n",
       "<style scoped>\n",
       "    .dataframe tbody tr th:only-of-type {\n",
       "        vertical-align: middle;\n",
       "    }\n",
       "\n",
       "    .dataframe tbody tr th {\n",
       "        vertical-align: top;\n",
       "    }\n",
       "\n",
       "    .dataframe thead th {\n",
       "        text-align: right;\n",
       "    }\n",
       "</style>\n",
       "<table border=\"1\" class=\"dataframe\">\n",
       "  <thead>\n",
       "    <tr style=\"text-align: right;\">\n",
       "      <th></th>\n",
       "      <th>timestamp_post</th>\n",
       "      <th>tweet_id</th>\n",
       "      <th>tweet_url</th>\n",
       "      <th>tweet_text</th>\n",
       "      <th>retweet_count</th>\n",
       "      <th>favorite_count</th>\n",
       "    </tr>\n",
       "  </thead>\n",
       "  <tbody>\n",
       "    <tr>\n",
       "      <th>0</th>\n",
       "      <td>Wed Oct 21 13:51:34 +0000 2020</td>\n",
       "      <td>1318912816988946433</td>\n",
       "      <td>https://twitter.com/MinBZ/status/1318912816988...</td>\n",
       "      <td>Vandaag staan we samen met Frankrijk stil bij ...</td>\n",
       "      <td>14</td>\n",
       "      <td>31</td>\n",
       "    </tr>\n",
       "    <tr>\n",
       "      <th>1</th>\n",
       "      <td>Fri Oct 16 17:00:23 +0000 2020</td>\n",
       "      <td>1317148395698610178</td>\n",
       "      <td>https://twitter.com/MinBZ/status/1317148395698...</td>\n",
       "      <td>Per 1 januari 2021 verandert het zakendoen met...</td>\n",
       "      <td>20</td>\n",
       "      <td>10</td>\n",
       "    </tr>\n",
       "    <tr>\n",
       "      <th>2</th>\n",
       "      <td>Thu Oct 15 16:54:19 +0000 2020</td>\n",
       "      <td>1316784480527491074</td>\n",
       "      <td>https://twitter.com/MinBZ/status/1316784480527...</td>\n",
       "      <td>Wereldwijd zetten we ons in voor meer perspect...</td>\n",
       "      <td>6</td>\n",
       "      <td>13</td>\n",
       "    </tr>\n",
       "  </tbody>\n",
       "</table>\n",
       "</div>"
      ],
      "text/plain": [
       "                   timestamp_post             tweet_id  \\\n",
       "0  Wed Oct 21 13:51:34 +0000 2020  1318912816988946433   \n",
       "1  Fri Oct 16 17:00:23 +0000 2020  1317148395698610178   \n",
       "2  Thu Oct 15 16:54:19 +0000 2020  1316784480527491074   \n",
       "\n",
       "                                           tweet_url  \\\n",
       "0  https://twitter.com/MinBZ/status/1318912816988...   \n",
       "1  https://twitter.com/MinBZ/status/1317148395698...   \n",
       "2  https://twitter.com/MinBZ/status/1316784480527...   \n",
       "\n",
       "                                          tweet_text retweet_count  \\\n",
       "0  Vandaag staan we samen met Frankrijk stil bij ...            14   \n",
       "1  Per 1 januari 2021 verandert het zakendoen met...            20   \n",
       "2  Wereldwijd zetten we ons in voor meer perspect...             6   \n",
       "\n",
       "  favorite_count  \n",
       "0             31  \n",
       "1             10  \n",
       "2             13  "
      ]
     },
     "execution_count": 34,
     "metadata": {},
     "output_type": "execute_result"
    }
   ],
   "source": [
    "df.head()"
   ]
  },
  {
   "cell_type": "code",
   "execution_count": 35,
   "metadata": {},
   "outputs": [
    {
     "data": {
      "text/html": [
       "<div>\n",
       "<style scoped>\n",
       "    .dataframe tbody tr th:only-of-type {\n",
       "        vertical-align: middle;\n",
       "    }\n",
       "\n",
       "    .dataframe tbody tr th {\n",
       "        vertical-align: top;\n",
       "    }\n",
       "\n",
       "    .dataframe thead th {\n",
       "        text-align: right;\n",
       "    }\n",
       "</style>\n",
       "<table border=\"1\" class=\"dataframe\">\n",
       "  <thead>\n",
       "    <tr style=\"text-align: right;\">\n",
       "      <th></th>\n",
       "      <th>timestamp_post</th>\n",
       "      <th>tweet_id</th>\n",
       "      <th>tweet_url</th>\n",
       "      <th>tweet_text</th>\n",
       "      <th>retweet_count</th>\n",
       "      <th>favorite_count</th>\n",
       "    </tr>\n",
       "  </thead>\n",
       "  <tbody>\n",
       "    <tr>\n",
       "      <th>0</th>\n",
       "      <td>Wed Oct 21 13:51:34 +0000 2020</td>\n",
       "      <td>1318912816988946433</td>\n",
       "      <td>https://twitter.com/MinBZ/status/1318912816988...</td>\n",
       "      <td>Vandaag staan we samen met Frankrijk stil bij ...</td>\n",
       "      <td>14</td>\n",
       "      <td>31</td>\n",
       "    </tr>\n",
       "    <tr>\n",
       "      <th>1</th>\n",
       "      <td>Fri Oct 16 17:00:23 +0000 2020</td>\n",
       "      <td>1317148395698610178</td>\n",
       "      <td>https://twitter.com/MinBZ/status/1317148395698...</td>\n",
       "      <td>Per 1 januari 2021 verandert het zakendoen met...</td>\n",
       "      <td>20</td>\n",
       "      <td>10</td>\n",
       "    </tr>\n",
       "    <tr>\n",
       "      <th>2</th>\n",
       "      <td>Thu Oct 15 16:54:19 +0000 2020</td>\n",
       "      <td>1316784480527491074</td>\n",
       "      <td>https://twitter.com/MinBZ/status/1316784480527...</td>\n",
       "      <td>Wereldwijd zetten we ons in voor meer perspect...</td>\n",
       "      <td>6</td>\n",
       "      <td>13</td>\n",
       "    </tr>\n",
       "  </tbody>\n",
       "</table>\n",
       "</div>"
      ],
      "text/plain": [
       "                   timestamp_post             tweet_id  \\\n",
       "0  Wed Oct 21 13:51:34 +0000 2020  1318912816988946433   \n",
       "1  Fri Oct 16 17:00:23 +0000 2020  1317148395698610178   \n",
       "2  Thu Oct 15 16:54:19 +0000 2020  1316784480527491074   \n",
       "\n",
       "                                           tweet_url  \\\n",
       "0  https://twitter.com/MinBZ/status/1318912816988...   \n",
       "1  https://twitter.com/MinBZ/status/1317148395698...   \n",
       "2  https://twitter.com/MinBZ/status/1316784480527...   \n",
       "\n",
       "                                          tweet_text retweet_count  \\\n",
       "0  Vandaag staan we samen met Frankrijk stil bij ...            14   \n",
       "1  Per 1 januari 2021 verandert het zakendoen met...            20   \n",
       "2  Wereldwijd zetten we ons in voor meer perspect...             6   \n",
       "\n",
       "  favorite_count  \n",
       "0             31  \n",
       "1             10  \n",
       "2             13  "
      ]
     },
     "execution_count": 35,
     "metadata": {},
     "output_type": "execute_result"
    }
   ],
   "source": [
    "df.tail()"
   ]
  },
  {
   "cell_type": "markdown",
   "metadata": {},
   "source": [
    "## Pre-process data"
   ]
  },
  {
   "cell_type": "code",
   "execution_count": 36,
   "metadata": {
    "scrolled": false
   },
   "outputs": [],
   "source": [
    "class PreProcessing:\n",
    "    \n",
    "    #Function to rename columns\n",
    "    def rename_columns(dataf):\n",
    "\n",
    "        renamed_df = (dataf\n",
    "                          .rename(columns={'timestamp_post': 'date'})\n",
    "                     )\n",
    "\n",
    "        return renamed_df\n",
    "\n",
    "    #Function to change data type\n",
    "    def change_dtype(dataf):\n",
    "\n",
    "        changed_df = (dataf\n",
    "                          .assign(date = lambda d: pd.to_datetime(d['date']),\n",
    "                                  retweet_count = dataf['retweet_count'].astype(int),\n",
    "                                  favorite_count =  dataf['favorite_count'].astype(int)\n",
    "                                 )\n",
    "                     )\n",
    "\n",
    "        return changed_df\n",
    "\n",
    "    #Function to add columns\n",
    "    def add_columns(dataf):\n",
    "\n",
    "\n",
    "        add_col_df = (dataf\n",
    "                         .assign(hour = lambda d: d['date'].dt.hour,\n",
    "                                 day_name = lambda d: d['date'].dt.strftime('%A'),\n",
    "                                 day_number = lambda d: d['date'].dt.dayofweek)\n",
    "                     )\n",
    "\n",
    "        return add_col_df\n",
    "\n",
    "    #Remove outliers\n",
    "    def remove_outliers(dataf):\n",
    "\n",
    "        return dataf[(dataf['retweet_count'] < 30) & (dataf['favorite_count'] < 50)]  "
   ]
  },
  {
   "cell_type": "code",
   "execution_count": 37,
   "metadata": {},
   "outputs": [],
   "source": [
    "clean_df = (df\n",
    "            .pipe(PreProcessing.rename_columns)\n",
    "            .pipe(PreProcessing.change_dtype)\n",
    "            .pipe(PreProcessing.add_columns)\n",
    "            .pipe(PreProcessing.remove_outliers)\n",
    "           )"
   ]
  },
  {
   "cell_type": "code",
   "execution_count": 33,
   "metadata": {
    "scrolled": true
   },
   "outputs": [
    {
     "data": {
      "text/html": [
       "<div>\n",
       "<style scoped>\n",
       "    .dataframe tbody tr th:only-of-type {\n",
       "        vertical-align: middle;\n",
       "    }\n",
       "\n",
       "    .dataframe tbody tr th {\n",
       "        vertical-align: top;\n",
       "    }\n",
       "\n",
       "    .dataframe thead th {\n",
       "        text-align: right;\n",
       "    }\n",
       "</style>\n",
       "<table border=\"1\" class=\"dataframe\">\n",
       "  <thead>\n",
       "    <tr style=\"text-align: right;\">\n",
       "      <th></th>\n",
       "      <th>date</th>\n",
       "      <th>tweet_id</th>\n",
       "      <th>tweet_url</th>\n",
       "      <th>tweet_text</th>\n",
       "      <th>retweet_count</th>\n",
       "      <th>favorite_count</th>\n",
       "      <th>hour</th>\n",
       "      <th>day_name</th>\n",
       "      <th>day_number</th>\n",
       "    </tr>\n",
       "  </thead>\n",
       "  <tbody>\n",
       "    <tr>\n",
       "      <th>0</th>\n",
       "      <td>2020-10-21 13:51:34+00:00</td>\n",
       "      <td>1318912816988946433</td>\n",
       "      <td>https://twitter.com/MinBZ/status/1318912816988...</td>\n",
       "      <td>Vandaag staan we samen met Frankrijk stil bij ...</td>\n",
       "      <td>14</td>\n",
       "      <td>31</td>\n",
       "      <td>13</td>\n",
       "      <td>Wednesday</td>\n",
       "      <td>2</td>\n",
       "    </tr>\n",
       "    <tr>\n",
       "      <th>1</th>\n",
       "      <td>2020-10-16 17:00:23+00:00</td>\n",
       "      <td>1317148395698610178</td>\n",
       "      <td>https://twitter.com/MinBZ/status/1317148395698...</td>\n",
       "      <td>Per 1 januari 2021 verandert het zakendoen met...</td>\n",
       "      <td>20</td>\n",
       "      <td>10</td>\n",
       "      <td>17</td>\n",
       "      <td>Friday</td>\n",
       "      <td>4</td>\n",
       "    </tr>\n",
       "    <tr>\n",
       "      <th>2</th>\n",
       "      <td>2020-10-15 16:54:19+00:00</td>\n",
       "      <td>1316784480527491074</td>\n",
       "      <td>https://twitter.com/MinBZ/status/1316784480527...</td>\n",
       "      <td>Wereldwijd zetten we ons in voor meer perspect...</td>\n",
       "      <td>6</td>\n",
       "      <td>13</td>\n",
       "      <td>16</td>\n",
       "      <td>Thursday</td>\n",
       "      <td>3</td>\n",
       "    </tr>\n",
       "  </tbody>\n",
       "</table>\n",
       "</div>"
      ],
      "text/plain": [
       "                       date             tweet_id  \\\n",
       "0 2020-10-21 13:51:34+00:00  1318912816988946433   \n",
       "1 2020-10-16 17:00:23+00:00  1317148395698610178   \n",
       "2 2020-10-15 16:54:19+00:00  1316784480527491074   \n",
       "\n",
       "                                           tweet_url  \\\n",
       "0  https://twitter.com/MinBZ/status/1318912816988...   \n",
       "1  https://twitter.com/MinBZ/status/1317148395698...   \n",
       "2  https://twitter.com/MinBZ/status/1316784480527...   \n",
       "\n",
       "                                          tweet_text  retweet_count  \\\n",
       "0  Vandaag staan we samen met Frankrijk stil bij ...             14   \n",
       "1  Per 1 januari 2021 verandert het zakendoen met...             20   \n",
       "2  Wereldwijd zetten we ons in voor meer perspect...              6   \n",
       "\n",
       "   favorite_count  hour   day_name  day_number  \n",
       "0              31    13  Wednesday           2  \n",
       "1              10    17     Friday           4  \n",
       "2              13    16   Thursday           3  "
      ]
     },
     "execution_count": 33,
     "metadata": {},
     "output_type": "execute_result"
    }
   ],
   "source": [
    "clean_df.head()"
   ]
  },
  {
   "cell_type": "code",
   "execution_count": 584,
   "metadata": {
    "scrolled": false
   },
   "outputs": [
    {
     "name": "stdout",
     "output_type": "stream",
     "text": [
      "<class 'pandas.core.frame.DataFrame'>\n",
      "Int64Index: 140 entries, 0 to 8\n",
      "Data columns (total 8 columns):\n",
      " #   Column          Non-Null Count  Dtype              \n",
      "---  ------          --------------  -----              \n",
      " 0   date            140 non-null    datetime64[ns, UTC]\n",
      " 1   tweet_id        140 non-null    object             \n",
      " 2   tweet_url       140 non-null    object             \n",
      " 3   retweet_count   140 non-null    int32              \n",
      " 4   favorite_count  140 non-null    int32              \n",
      " 5   hour            140 non-null    int64              \n",
      " 6   day_name        140 non-null    object             \n",
      " 7   day_number      140 non-null    int64              \n",
      "dtypes: datetime64[ns, UTC](1), int32(2), int64(2), object(3)\n",
      "memory usage: 8.8+ KB\n"
     ]
    }
   ],
   "source": [
    "clean_df.info()"
   ]
  },
  {
   "cell_type": "code",
   "execution_count": 585,
   "metadata": {},
   "outputs": [
    {
     "data": {
      "text/plain": [
       "140"
      ]
     },
     "execution_count": 585,
     "metadata": {},
     "output_type": "execute_result"
    }
   ],
   "source": [
    "len(clean_df)"
   ]
  },
  {
   "cell_type": "markdown",
   "metadata": {},
   "source": [
    "## Analyze & Visualize"
   ]
  },
  {
   "cell_type": "markdown",
   "metadata": {},
   "source": [
    "**Retweets**"
   ]
  },
  {
   "cell_type": "code",
   "execution_count": 665,
   "metadata": {
    "scrolled": false
   },
   "outputs": [
    {
     "data": {
      "image/png": "[encoded data removed]",
      "text/plain": [
       "<Figure size 1152x432 with 2 Axes>"
      ]
     },
     "metadata": {},
     "output_type": "display_data"
    }
   ],
   "source": [
    "#Set style\n",
    "sns.set_style('whitegrid')\n",
    "\n",
    "#Create subplot to plot on\n",
    "fig, (ax1,ax2) = plt.subplots(nrows=1, ncols=2, figsize=(16,6))\n",
    "\n",
    "#Scatterplots including reg line\n",
    "sns.regplot(x='hour', y='retweet_count', data=clean_df, ax=ax1)\n",
    "sns.regplot(x='day_number', y='retweet_count', data=clean_df, ax=ax2);\n",
    "\n",
    "#Set xaxisticklabels to integer\n",
    "ax1.xaxis.set_major_locator(MaxNLocator(integer=True))"
   ]
  },
  {
   "cell_type": "markdown",
   "metadata": {},
   "source": [
    "**Favorites**"
   ]
  },
  {
   "cell_type": "code",
   "execution_count": 666,
   "metadata": {
    "scrolled": false
   },
   "outputs": [
    {
     "data": {
      "image/png": "[encoded data removed]",
      "text/plain": [
       "<Figure size 1152x432 with 2 Axes>"
      ]
     },
     "metadata": {},
     "output_type": "display_data"
    }
   ],
   "source": [
    "#Create subplot to plot on\n",
    "fig, (ax1,ax2) = plt.subplots(nrows=1, ncols=2, figsize=(16,6))\n",
    "\n",
    "#Scatterplots including reg line\n",
    "sns.regplot(x='hour', y='favorite_count', data=clean_df, ax=ax1)\n",
    "sns.regplot(x='day_number', y='favorite_count', data=clean_df, ax=ax2);\n",
    "\n",
    "#Set xaxisticklabels to integer\n",
    "ax1.xaxis.set_major_locator(MaxNLocator(integer=True))"
   ]
  },
  {
   "cell_type": "markdown",
   "metadata": {},
   "source": [
    "**Day of week**"
   ]
  },
  {
   "cell_type": "code",
   "execution_count": 664,
   "metadata": {
    "scrolled": false
   },
   "outputs": [
    {
     "data": {
      "image/png": "[encoded data removed]",
      "text/plain": [
       "<Figure size 1152x432 with 2 Axes>"
      ]
     },
     "metadata": {
      "needs_background": "light"
     },
     "output_type": "display_data"
    }
   ],
   "source": [
    "#Create subplot to plot on\n",
    "fig, (ax1,ax2) = plt.subplots(nrows=1, ncols=2, figsize=(16,6))\n",
    "\n",
    "#Scatterplot including reg line\n",
    "sns.regplot(x='day_number', y='retweet_count', data=clean_df, ax=ax1)\n",
    "\n",
    "#Format chart\n",
    "ax1.set_xticklabels(['Maandag', 'Maandag', 'Dinsdag', 'Woensdag', 'Donderdag', 'Vrijdag', 'Zaterdag', 'Zondag'])\n",
    "ax1.set_xlabel(\"\")\n",
    "ax1.set_ylabel(\"\")\n",
    "ax1.set_title('Retweets')\n",
    "\n",
    "#Scatterplot including reg line\n",
    "sns.regplot(x='day_number', y='favorite_count', data=clean_df, ax=ax2);\n",
    "\n",
    "#Format chart\n",
    "ax2.set_xticklabels(['Maandag', 'Maandag', 'Dinsdag', 'Woensdag', 'Donderdag', 'Vrijdag', 'Zaterdag', 'Zondag'])\n",
    "ax2.set_xlabel(\"\")\n",
    "ax2.set_ylabel(\"\")\n",
    "ax2.set_title('Likes');"
   ]
  },
  {
   "cell_type": "markdown",
   "metadata": {},
   "source": [
    "**Average per hour**"
   ]
  },
  {
   "cell_type": "code",
   "execution_count": 678,
   "metadata": {},
   "outputs": [],
   "source": [
    "#Group by hour and capture average values\n",
    "group_by_hour = (clean_df\n",
    "                   .groupby('hour')\n",
    "                   .mean()\n",
    "                )"
   ]
  },
  {
   "cell_type": "code",
   "execution_count": 679,
   "metadata": {
    "scrolled": false
   },
   "outputs": [
    {
     "data": {
      "image/png": "[encoded data removed]",
      "text/plain": [
       "<Figure size 1152x432 with 2 Axes>"
      ]
     },
     "metadata": {},
     "output_type": "display_data"
    }
   ],
   "source": [
    "#Create subplot to plot on\n",
    "fig, (ax1,ax2) = plt.subplots(nrows=1, ncols=2, figsize=(16,6))\n",
    "\n",
    "#Plot barcharts\n",
    "sns.barplot(x=group_by_hour.index, y='retweet_count', data=group_by_hour, ax=ax1)\n",
    "sns.barplot(x=group_by_hour.index, y='favorite_count', data=group_by_hour, ax=ax2);"
   ]
  },
  {
   "cell_type": "markdown",
   "metadata": {},
   "source": [
    "**Average per day**"
   ]
  },
  {
   "cell_type": "code",
   "execution_count": 680,
   "metadata": {},
   "outputs": [],
   "source": [
    "#Group by hour and capture average values\n",
    "group_by_day = (clean_df\n",
    "                   .groupby('day_number')\n",
    "                   .mean()\n",
    "               )"
   ]
  },
  {
   "cell_type": "code",
   "execution_count": 681,
   "metadata": {},
   "outputs": [
    {
     "data": {
      "image/png": "[encoded data removed]",
      "text/plain": [
       "<Figure size 1152x432 with 2 Axes>"
      ]
     },
     "metadata": {},
     "output_type": "display_data"
    }
   ],
   "source": [
    "#Create subplot to plot on\n",
    "fig, (ax1,ax2) = plt.subplots(nrows=1, ncols=2, figsize=(16,6))\n",
    "\n",
    "#Plot retweets per day\n",
    "sns.barplot(x=group_by_day.index, y='retweet_count', data=group_by_day, ax=ax1)\n",
    "\n",
    "#Format chart\n",
    "ax1.set_xticklabels(['Maandag', 'Dinsdag', 'Woensdag', 'Donderdag', 'Vrijdag', 'Zaterdag', 'Zondag'])\n",
    "ax1.set_xlabel(\"\")\n",
    "ax1.set_ylabel(\"\")\n",
    "ax1.set_title('Retweets')\n",
    "\n",
    "#Plot favorites/likes per day\n",
    "sns.barplot(x=group_by_day.index, y='favorite_count', data=group_by_day, ax=ax2)\n",
    "\n",
    "#Format chart\n",
    "ax2.set_xticklabels(['Maandag', 'Dinsdag', 'Woensdag', 'Donderdag', 'Vrijdag', 'Zaterdag', 'Zondag'])\n",
    "ax2.set_xlabel(\"\")\n",
    "ax2.set_ylabel(\"\")\n",
    "ax2.set_title('Likes');"
   ]
  },
  {
   "cell_type": "markdown",
   "metadata": {},
   "source": [
    "## Correlation & regression"
   ]
  },
  {
   "cell_type": "markdown",
   "metadata": {},
   "source": [
    "- Negative correlation between hour and retweet/favorite count\n",
    "- Positive correlation between day number and retweet/favorite count"
   ]
  },
  {
   "cell_type": "code",
   "execution_count": 682,
   "metadata": {},
   "outputs": [
    {
     "data": {
      "text/html": [
       "<div>\n",
       "<style scoped>\n",
       "    .dataframe tbody tr th:only-of-type {\n",
       "        vertical-align: middle;\n",
       "    }\n",
       "\n",
       "    .dataframe tbody tr th {\n",
       "        vertical-align: top;\n",
       "    }\n",
       "\n",
       "    .dataframe thead th {\n",
       "        text-align: right;\n",
       "    }\n",
       "</style>\n",
       "<table border=\"1\" class=\"dataframe\">\n",
       "  <thead>\n",
       "    <tr style=\"text-align: right;\">\n",
       "      <th></th>\n",
       "      <th>hour</th>\n",
       "      <th>day_number</th>\n",
       "    </tr>\n",
       "  </thead>\n",
       "  <tbody>\n",
       "    <tr>\n",
       "      <th>retweet_count</th>\n",
       "      <td>-0.07994</td>\n",
       "      <td>0.018407</td>\n",
       "    </tr>\n",
       "    <tr>\n",
       "      <th>favorite_count</th>\n",
       "      <td>0.01539</td>\n",
       "      <td>0.054771</td>\n",
       "    </tr>\n",
       "  </tbody>\n",
       "</table>\n",
       "</div>"
      ],
      "text/plain": [
       "                   hour  day_number\n",
       "retweet_count  -0.07994    0.018407\n",
       "favorite_count  0.01539    0.054771"
      ]
     },
     "execution_count": 682,
     "metadata": {},
     "output_type": "execute_result"
    }
   ],
   "source": [
    "#Corrlation df \n",
    "(clean_df\n",
    " .corr()\n",
    " .loc[['retweet_count', 'favorite_count'], ['hour', 'day_number']]\n",
    ")"
   ]
  },
  {
   "cell_type": "markdown",
   "metadata": {},
   "source": [
    "**Retweets**"
   ]
  },
  {
   "cell_type": "code",
   "execution_count": 683,
   "metadata": {},
   "outputs": [],
   "source": [
    "#Define explanatory variables\n",
    "X = clean_df[['hour', 'day_number']]\n",
    "\n",
    "#Define dependent variable\n",
    "y_retweet = clean_df['retweet_count']"
   ]
  },
  {
   "cell_type": "code",
   "execution_count": 684,
   "metadata": {},
   "outputs": [],
   "source": [
    "#Initiate OLS regression object\n",
    "reg_retweets_ols = OLS(y_retweet, X)"
   ]
  },
  {
   "cell_type": "code",
   "execution_count": 685,
   "metadata": {},
   "outputs": [],
   "source": [
    "#Fit OLS model\n",
    "results_retweets_ols = reg_retweets_ols.fit()"
   ]
  },
  {
   "cell_type": "markdown",
   "metadata": {},
   "source": [
    "- We observe a positive effect of posting later on the day for retweets on @minbz\n",
    "- We observe a positive effect of posting later in the week for retweets on @minBZ"
   ]
  },
  {
   "cell_type": "code",
   "execution_count": 686,
   "metadata": {
    "scrolled": false
   },
   "outputs": [
    {
     "data": {
      "text/html": [
       "<table class=\"simpletable\">\n",
       "<caption>OLS Regression Results</caption>\n",
       "<tr>\n",
       "  <th>Dep. Variable:</th>      <td>retweet_count</td>  <th>  R-squared (uncentered):</th>      <td>   0.582</td>\n",
       "</tr>\n",
       "<tr>\n",
       "  <th>Model:</th>                   <td>OLS</td>       <th>  Adj. R-squared (uncentered):</th> <td>   0.576</td>\n",
       "</tr>\n",
       "<tr>\n",
       "  <th>Method:</th>             <td>Least Squares</td>  <th>  F-statistic:       </th>          <td>   96.18</td>\n",
       "</tr>\n",
       "<tr>\n",
       "  <th>Date:</th>             <td>Tue, 27 Oct 2020</td> <th>  Prob (F-statistic):</th>          <td>6.95e-27</td>\n",
       "</tr>\n",
       "<tr>\n",
       "  <th>Time:</th>                 <td>12:09:24</td>     <th>  Log-Likelihood:    </th>          <td> -458.28</td>\n",
       "</tr>\n",
       "<tr>\n",
       "  <th>No. Observations:</th>      <td>   140</td>      <th>  AIC:               </th>          <td>   920.6</td>\n",
       "</tr>\n",
       "<tr>\n",
       "  <th>Df Residuals:</th>          <td>   138</td>      <th>  BIC:               </th>          <td>   926.4</td>\n",
       "</tr>\n",
       "<tr>\n",
       "  <th>Df Model:</th>              <td>     2</td>      <th>                     </th>              <td> </td>   \n",
       "</tr>\n",
       "<tr>\n",
       "  <th>Covariance Type:</th>      <td>nonrobust</td>    <th>                     </th>              <td> </td>   \n",
       "</tr>\n",
       "</table>\n",
       "<table class=\"simpletable\">\n",
       "<tr>\n",
       "       <td></td>         <th>coef</th>     <th>std err</th>      <th>t</th>      <th>P>|t|</th>  <th>[0.025</th>    <th>0.975]</th>  \n",
       "</tr>\n",
       "<tr>\n",
       "  <th>hour</th>       <td>    0.4344</td> <td>    0.059</td> <td>    7.336</td> <td> 0.000</td> <td>    0.317</td> <td>    0.551</td>\n",
       "</tr>\n",
       "<tr>\n",
       "  <th>day_number</th> <td>    0.6204</td> <td>    0.288</td> <td>    2.153</td> <td> 0.033</td> <td>    0.051</td> <td>    1.190</td>\n",
       "</tr>\n",
       "</table>\n",
       "<table class=\"simpletable\">\n",
       "<tr>\n",
       "  <th>Omnibus:</th>       <td>29.577</td> <th>  Durbin-Watson:     </th> <td>   1.881</td>\n",
       "</tr>\n",
       "<tr>\n",
       "  <th>Prob(Omnibus):</th> <td> 0.000</td> <th>  Jarque-Bera (JB):  </th> <td>  40.461</td>\n",
       "</tr>\n",
       "<tr>\n",
       "  <th>Skew:</th>          <td> 1.190</td> <th>  Prob(JB):          </th> <td>1.64e-09</td>\n",
       "</tr>\n",
       "<tr>\n",
       "  <th>Kurtosis:</th>      <td> 4.129</td> <th>  Cond. No.          </th> <td>    7.62</td>\n",
       "</tr>\n",
       "</table><br/><br/>Warnings:<br/>[1] Standard Errors assume that the covariance matrix of the errors is correctly specified."
      ],
      "text/plain": [
       "<class 'statsmodels.iolib.summary.Summary'>\n",
       "\"\"\"\n",
       "                                 OLS Regression Results                                \n",
       "=======================================================================================\n",
       "Dep. Variable:          retweet_count   R-squared (uncentered):                   0.582\n",
       "Model:                            OLS   Adj. R-squared (uncentered):              0.576\n",
       "Method:                 Least Squares   F-statistic:                              96.18\n",
       "Date:                Tue, 27 Oct 2020   Prob (F-statistic):                    6.95e-27\n",
       "Time:                        12:09:24   Log-Likelihood:                         -458.28\n",
       "No. Observations:                 140   AIC:                                      920.6\n",
       "Df Residuals:                     138   BIC:                                      926.4\n",
       "Df Model:                           2                                                  \n",
       "Covariance Type:            nonrobust                                                  \n",
       "==============================================================================\n",
       "                 coef    std err          t      P>|t|      [0.025      0.975]\n",
       "------------------------------------------------------------------------------\n",
       "hour           0.4344      0.059      7.336      0.000       0.317       0.551\n",
       "day_number     0.6204      0.288      2.153      0.033       0.051       1.190\n",
       "==============================================================================\n",
       "Omnibus:                       29.577   Durbin-Watson:                   1.881\n",
       "Prob(Omnibus):                  0.000   Jarque-Bera (JB):               40.461\n",
       "Skew:                           1.190   Prob(JB):                     1.64e-09\n",
       "Kurtosis:                       4.129   Cond. No.                         7.62\n",
       "==============================================================================\n",
       "\n",
       "Warnings:\n",
       "[1] Standard Errors assume that the covariance matrix of the errors is correctly specified.\n",
       "\"\"\""
      ]
     },
     "execution_count": 686,
     "metadata": {},
     "output_type": "execute_result"
    }
   ],
   "source": [
    "#Evaluate results\n",
    "results_retweets_ols.summary()"
   ]
  },
  {
   "cell_type": "markdown",
   "metadata": {},
   "source": [
    "**Favorites**"
   ]
  },
  {
   "cell_type": "code",
   "execution_count": 687,
   "metadata": {},
   "outputs": [],
   "source": [
    "#Define dependent variable\n",
    "y_favorites = clean_df['favorite_count']"
   ]
  },
  {
   "cell_type": "code",
   "execution_count": 688,
   "metadata": {},
   "outputs": [],
   "source": [
    "#Initiate OLS regression object\n",
    "reg_favorites_ols = OLS(y_favorites, X)"
   ]
  },
  {
   "cell_type": "code",
   "execution_count": 689,
   "metadata": {},
   "outputs": [],
   "source": [
    "#Fit OLS model\n",
    "results_favorites_ols = reg_favorites_ols.fit()"
   ]
  },
  {
   "cell_type": "markdown",
   "metadata": {},
   "source": [
    "- We observe a positive effect of posting later on the day for favorites on @minbz\n",
    "- We observe a positive effect of posting later in the week for favorites on @minBZ"
   ]
  },
  {
   "cell_type": "code",
   "execution_count": 690,
   "metadata": {
    "scrolled": false
   },
   "outputs": [
    {
     "data": {
      "text/html": [
       "<table class=\"simpletable\">\n",
       "<caption>OLS Regression Results</caption>\n",
       "<tr>\n",
       "  <th>Dep. Variable:</th>     <td>favorite_count</td>  <th>  R-squared (uncentered):</th>      <td>   0.645</td>\n",
       "</tr>\n",
       "<tr>\n",
       "  <th>Model:</th>                   <td>OLS</td>       <th>  Adj. R-squared (uncentered):</th> <td>   0.639</td>\n",
       "</tr>\n",
       "<tr>\n",
       "  <th>Method:</th>             <td>Least Squares</td>  <th>  F-statistic:       </th>          <td>   125.1</td>\n",
       "</tr>\n",
       "<tr>\n",
       "  <th>Date:</th>             <td>Tue, 27 Oct 2020</td> <th>  Prob (F-statistic):</th>          <td>1.02e-31</td>\n",
       "</tr>\n",
       "<tr>\n",
       "  <th>Time:</th>                 <td>12:09:54</td>     <th>  Log-Likelihood:    </th>          <td> -549.18</td>\n",
       "</tr>\n",
       "<tr>\n",
       "  <th>No. Observations:</th>      <td>   140</td>      <th>  AIC:               </th>          <td>   1102.</td>\n",
       "</tr>\n",
       "<tr>\n",
       "  <th>Df Residuals:</th>          <td>   138</td>      <th>  BIC:               </th>          <td>   1108.</td>\n",
       "</tr>\n",
       "<tr>\n",
       "  <th>Df Model:</th>              <td>     2</td>      <th>                     </th>              <td> </td>   \n",
       "</tr>\n",
       "<tr>\n",
       "  <th>Covariance Type:</th>      <td>nonrobust</td>    <th>                     </th>              <td> </td>   \n",
       "</tr>\n",
       "</table>\n",
       "<table class=\"simpletable\">\n",
       "<tr>\n",
       "       <td></td>         <th>coef</th>     <th>std err</th>      <th>t</th>      <th>P>|t|</th>  <th>[0.025</th>    <th>0.975]</th>  \n",
       "</tr>\n",
       "<tr>\n",
       "  <th>hour</th>       <td>    0.9558</td> <td>    0.113</td> <td>    8.432</td> <td> 0.000</td> <td>    0.732</td> <td>    1.180</td>\n",
       "</tr>\n",
       "<tr>\n",
       "  <th>day_number</th> <td>    1.3121</td> <td>    0.552</td> <td>    2.379</td> <td> 0.019</td> <td>    0.222</td> <td>    2.403</td>\n",
       "</tr>\n",
       "</table>\n",
       "<table class=\"simpletable\">\n",
       "<tr>\n",
       "  <th>Omnibus:</th>       <td>13.129</td> <th>  Durbin-Watson:     </th> <td>   1.907</td>\n",
       "</tr>\n",
       "<tr>\n",
       "  <th>Prob(Omnibus):</th> <td> 0.001</td> <th>  Jarque-Bera (JB):  </th> <td>  14.861</td>\n",
       "</tr>\n",
       "<tr>\n",
       "  <th>Skew:</th>          <td> 0.797</td> <th>  Prob(JB):          </th> <td>0.000593</td>\n",
       "</tr>\n",
       "<tr>\n",
       "  <th>Kurtosis:</th>      <td> 2.922</td> <th>  Cond. No.          </th> <td>    7.62</td>\n",
       "</tr>\n",
       "</table><br/><br/>Warnings:<br/>[1] Standard Errors assume that the covariance matrix of the errors is correctly specified."
      ],
      "text/plain": [
       "<class 'statsmodels.iolib.summary.Summary'>\n",
       "\"\"\"\n",
       "                                 OLS Regression Results                                \n",
       "=======================================================================================\n",
       "Dep. Variable:         favorite_count   R-squared (uncentered):                   0.645\n",
       "Model:                            OLS   Adj. R-squared (uncentered):              0.639\n",
       "Method:                 Least Squares   F-statistic:                              125.1\n",
       "Date:                Tue, 27 Oct 2020   Prob (F-statistic):                    1.02e-31\n",
       "Time:                        12:09:54   Log-Likelihood:                         -549.18\n",
       "No. Observations:                 140   AIC:                                      1102.\n",
       "Df Residuals:                     138   BIC:                                      1108.\n",
       "Df Model:                           2                                                  \n",
       "Covariance Type:            nonrobust                                                  \n",
       "==============================================================================\n",
       "                 coef    std err          t      P>|t|      [0.025      0.975]\n",
       "------------------------------------------------------------------------------\n",
       "hour           0.9558      0.113      8.432      0.000       0.732       1.180\n",
       "day_number     1.3121      0.552      2.379      0.019       0.222       2.403\n",
       "==============================================================================\n",
       "Omnibus:                       13.129   Durbin-Watson:                   1.907\n",
       "Prob(Omnibus):                  0.001   Jarque-Bera (JB):               14.861\n",
       "Skew:                           0.797   Prob(JB):                     0.000593\n",
       "Kurtosis:                       2.922   Cond. No.                         7.62\n",
       "==============================================================================\n",
       "\n",
       "Warnings:\n",
       "[1] Standard Errors assume that the covariance matrix of the errors is correctly specified.\n",
       "\"\"\""
      ]
     },
     "execution_count": 690,
     "metadata": {},
     "output_type": "execute_result"
    }
   ],
   "source": [
    "#Evaluate results\n",
    "results_favorites_ols.summary()"
   ]
  }
 ],
 "metadata": {
  "kernelspec": {
   "display_name": "Python 3",
   "language": "python",
   "name": "python3"
  },
  "language_info": {
   "codemirror_mode": {
    "name": "ipython",
    "version": 3
   },
   "file_extension": ".py",
   "mimetype": "text/x-python",
   "name": "python",
   "nbconvert_exporter": "python",
   "pygments_lexer": "ipython3",
   "version": "3.7.6"
  }
 },
 "nbformat": 4,
 "nbformat_minor": 4
}
