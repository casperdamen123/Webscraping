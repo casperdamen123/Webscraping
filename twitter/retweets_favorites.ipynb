{
 "cells": [
  {
   "cell_type": "markdown",
   "metadata": {},
   "source": [
    "# Analyze effect of time of posting"
   ]
  },
  {
   "cell_type": "code",
   "execution_count": 5,
   "metadata": {},
   "outputs": [],
   "source": [
    "import pandas as pd\n",
    "import numpy as np\n",
    "import seaborn as sns\n",
    "import matplotlib.pyplot as plt\n",
    "import tweepy as tw\n",
    "import datetime as dt\n",
    "from matplotlib.ticker import MaxNLocator\n",
    "from statsmodels.api import OLS\n",
    "import json\n",
    "import requests\n",
    "%matplotlib inline"
   ]
  },
  {
   "cell_type": "markdown",
   "metadata": {},
   "source": [
    "## Get data from Twitter API"
   ]
  },
  {
   "cell_type": "markdown",
   "metadata": {},
   "source": [
    "**Setup API credentials**"
   ]
  },
  {
   "cell_type": "code",
   "execution_count": 6,
   "metadata": {},
   "outputs": [],
   "source": [
    "class ConnectAPI:\n",
    "    \"\"\"\n",
    "    - consumer_key: The consumer key from the Twitter developer account (str)\n",
    "    - consumer_secret: The consumer secret key from the Twitter developer account (str)\n",
    "    - access_token: The access token from the Twitter developer account (str)\n",
    "    - access_token_secret: The access token secret from the Twitter developer account (str)\n",
    "    \"\"\"\n",
    "    \n",
    "    #Insert API keys\n",
    "    def __init__(self, consumer_key, consumer_secret, access_token, access_token_secret):\n",
    "        self.consumer_key = consumer_key\n",
    "        self.consumer_secret = consumer_secret\n",
    "        self.access_token = access_token\n",
    "        self.access_token_secret = access_token_secret\n",
    "        \n",
    "    #Authenticate and connect to Twitter\n",
    "    def connect(self):\n",
    "        self.auth = tw.OAuthHandler(self.consumer_key, self.consumer_secret)\n",
    "        self.auth.set_access_token(self.access_token, self.access_token_secret)\n",
    "        #Setup API connection\n",
    "        self.api = tw.API(self.auth, parser=tw.parsers.JSONParser())\n",
    "        #Verify connection\n",
    "        try:\n",
    "            self.api.verify_credentials()\n",
    "            print(\"Authentication OK\")\n",
    "        except:\n",
    "            print(\"Error during authentication\")   \n",
    "        return self.api"
   ]
  },
  {
   "cell_type": "code",
   "execution_count": 7,
   "metadata": {},
   "outputs": [
    {
     "name": "stdout",
     "output_type": "stream",
     "text": [
      "Authentication OK\n"
     ]
    }
   ],
   "source": [
    "#Load JSON with tokens\n",
    "keys_dict = json.load(open('../data/tokens_twitter.json'))\n",
    "\n",
    "#Setup credentials\n",
    "api_credentials = ConnectAPI(consumer_key= keys_dict['consumer_key'],\n",
    "                             consumer_secret= keys_dict['consumer_secret'],\n",
    "                             access_token= keys_dict['access_token'],\n",
    "                             access_token_secret= keys_dict['access_token_secret'])\n",
    "#Authenticate and connect\n",
    "api_connection = api_credentials.connect()"
   ]
  },
  {
   "cell_type": "markdown",
   "metadata": {},
   "source": [
    "**Retrieve user timeline**"
   ]
  },
  {
   "cell_type": "code",
   "execution_count": 8,
   "metadata": {},
   "outputs": [],
   "source": [
    "class RetrieveTwitterData:\n",
    "    \"\"\"\n",
    "    - user_name: The name of the Twitter handle for the account (str)\n",
    "    - max_post_id: The latest post ID you would like to capture (int)\n",
    "    - start_date: The date from which to start gathering the Tweet information, up until max_post_id (str)\n",
    "    - api: The api connection to use (tweepy API object)\n",
    "    \"\"\"\n",
    "    \n",
    "    def __init__(self, user_name, max_post_id, start_date, api):\n",
    "            \n",
    "            self.user_name=user_name\n",
    "            self.max_post_id=max_post_id\n",
    "            self.start_date=start_date\n",
    "            self.api = api\n",
    "     \n",
    "    #Function to retrieve data from timeline\n",
    "    def data_from_timeline(self):\n",
    "\n",
    "        #Create emtpy dataframe to append to\n",
    "        self.full_df=pd.DataFrame(columns=['timestamp_post', 'tweet_id', 'tweet_url',  \n",
    "                                           'tweet_text', 'retweet_count', 'favorite_count'])\n",
    "\n",
    "        #Keep running until minimim post ID is reached (duplicate id is reached)\n",
    "        while (np.isnan(self.full_df['tweet_id'].min())) or (pd.to_datetime(self.full_df['timestamp_post']).dt.date.min() > pd.to_datetime(self.start_date)):\n",
    "                     \n",
    "            self.timeline = self.api.user_timeline(id=self.user_name,\n",
    "                                                   max_id=self.max_post_id,\n",
    "                                                   exclude_replies=1, \n",
    "                                                   include_rts=0,\n",
    "                                                   tweet_mode=\"extended\")\n",
    "\n",
    "            #Create lists to capture timestamp, Tweet ID, Tweet URL, retweet count and favorite count\n",
    "            timestamp_post = []\n",
    "            tweet_id = []\n",
    "            tweet_url = []\n",
    "            tweet_text = []\n",
    "            retweet_count = []\n",
    "            favorite_count = []\n",
    "\n",
    "\n",
    "            #Loop through tweets and capture information\n",
    "            for tweet in self.timeline:                \n",
    "                #Capture timestamp, Tweet URL, retweet and favorite count\n",
    "                timestamp_post.append(tweet['created_at'])\n",
    "                tweet_id.append(tweet['id'])\n",
    "                tweet_url.append('https://twitter.com/MinBZ/status/{}'.format(tweet['id']))\n",
    "                tweet_text.append(tweet['full_text'])\n",
    "                retweet_count.append(tweet['retweet_count'])\n",
    "                favorite_count.append(tweet['favorite_count']) \n",
    "\n",
    "            #Create partial_df for the round\n",
    "            self.partial_df = pd.DataFrame({'timestamp_post': timestamp_post,\n",
    "                                            'tweet_id' : tweet_id,\n",
    "                                            'tweet_url':  tweet_url,\n",
    "                                            'tweet_text': tweet_text,\n",
    "                                            'retweet_count': retweet_count,\n",
    "                                            'favorite_count': favorite_count\n",
    "                                           }\n",
    "                                          )\n",
    "\n",
    "            #Concatenate partial_df to full_df\n",
    "            self.full_df = pd.concat([self.full_df, self.partial_df])\n",
    "\n",
    "            #Set maximum post_id to oldest retreived post_id\n",
    "            self.max_post_id = self.full_df['tweet_id'].min() \n",
    "\n",
    "        return self.full_df[~self.full_df['tweet_id'].duplicated()]"
   ]
  },
  {
   "cell_type": "code",
   "execution_count": 20,
   "metadata": {
    "scrolled": false
   },
   "outputs": [],
   "source": [
    "#Specify data request\n",
    "data_request = RetrieveTwitterData(user_name='DutchMFA',\n",
    "                                   max_post_id=1318912816988946433, \n",
    "                                   start_date='2020-01-20',\n",
    "                                   api=api_connection\n",
    "                                  )"
   ]
  },
  {
   "cell_type": "code",
   "execution_count": 21,
   "metadata": {},
   "outputs": [],
   "source": [
    "#Create dataframe\n",
    "df = data_request.data_from_timeline()"
   ]
  },
  {
   "cell_type": "code",
   "execution_count": 22,
   "metadata": {
    "scrolled": true
   },
   "outputs": [
    {
     "data": {
      "text/html": [
       "<div>\n",
       "<style scoped>\n",
       "    .dataframe tbody tr th:only-of-type {\n",
       "        vertical-align: middle;\n",
       "    }\n",
       "\n",
       "    .dataframe tbody tr th {\n",
       "        vertical-align: top;\n",
       "    }\n",
       "\n",
       "    .dataframe thead th {\n",
       "        text-align: right;\n",
       "    }\n",
       "</style>\n",
       "<table border=\"1\" class=\"dataframe\">\n",
       "  <thead>\n",
       "    <tr style=\"text-align: right;\">\n",
       "      <th></th>\n",
       "      <th>timestamp_post</th>\n",
       "      <th>tweet_id</th>\n",
       "      <th>tweet_url</th>\n",
       "      <th>tweet_text</th>\n",
       "      <th>retweet_count</th>\n",
       "      <th>favorite_count</th>\n",
       "    </tr>\n",
       "  </thead>\n",
       "  <tbody>\n",
       "    <tr>\n",
       "      <th>0</th>\n",
       "      <td>Tue Oct 20 14:22:52 +0000 2020</td>\n",
       "      <td>1318558307720855552</td>\n",
       "      <td>https://twitter.com/MinBZ/status/1318558307720...</td>\n",
       "      <td>Tech entrepreneur Tey El-Rjula aims to make a ...</td>\n",
       "      <td>8</td>\n",
       "      <td>15</td>\n",
       "    </tr>\n",
       "    <tr>\n",
       "      <th>1</th>\n",
       "      <td>Mon Oct 19 16:45:29 +0000 2020</td>\n",
       "      <td>1318231809759522821</td>\n",
       "      <td>https://twitter.com/MinBZ/status/1318231809759...</td>\n",
       "      <td>In recent weeks coronavirus has had too many o...</td>\n",
       "      <td>26</td>\n",
       "      <td>44</td>\n",
       "    </tr>\n",
       "    <tr>\n",
       "      <th>2</th>\n",
       "      <td>Fri Oct 16 15:12:05 +0000 2020</td>\n",
       "      <td>1317121141916471296</td>\n",
       "      <td>https://twitter.com/MinBZ/status/1317121141916...</td>\n",
       "      <td>Young people deserve to be equipped with the s...</td>\n",
       "      <td>7</td>\n",
       "      <td>18</td>\n",
       "    </tr>\n",
       "    <tr>\n",
       "      <th>3</th>\n",
       "      <td>Fri Oct 16 14:43:10 +0000 2020</td>\n",
       "      <td>1317113863544971272</td>\n",
       "      <td>https://twitter.com/MinBZ/status/1317113863544...</td>\n",
       "      <td>The European Council calls upon the Russian Fe...</td>\n",
       "      <td>6</td>\n",
       "      <td>14</td>\n",
       "    </tr>\n",
       "    <tr>\n",
       "      <th>4</th>\n",
       "      <td>Thu Oct 15 16:13:09 +0000 2020</td>\n",
       "      <td>1316774121758490624</td>\n",
       "      <td>https://twitter.com/MinBZ/status/1316774121758...</td>\n",
       "      <td>COVID will potentially reverse decades of prog...</td>\n",
       "      <td>7</td>\n",
       "      <td>17</td>\n",
       "    </tr>\n",
       "  </tbody>\n",
       "</table>\n",
       "</div>"
      ],
      "text/plain": [
       "                   timestamp_post             tweet_id  \\\n",
       "0  Tue Oct 20 14:22:52 +0000 2020  1318558307720855552   \n",
       "1  Mon Oct 19 16:45:29 +0000 2020  1318231809759522821   \n",
       "2  Fri Oct 16 15:12:05 +0000 2020  1317121141916471296   \n",
       "3  Fri Oct 16 14:43:10 +0000 2020  1317113863544971272   \n",
       "4  Thu Oct 15 16:13:09 +0000 2020  1316774121758490624   \n",
       "\n",
       "                                           tweet_url  \\\n",
       "0  https://twitter.com/MinBZ/status/1318558307720...   \n",
       "1  https://twitter.com/MinBZ/status/1318231809759...   \n",
       "2  https://twitter.com/MinBZ/status/1317121141916...   \n",
       "3  https://twitter.com/MinBZ/status/1317113863544...   \n",
       "4  https://twitter.com/MinBZ/status/1316774121758...   \n",
       "\n",
       "                                          tweet_text retweet_count  \\\n",
       "0  Tech entrepreneur Tey El-Rjula aims to make a ...             8   \n",
       "1  In recent weeks coronavirus has had too many o...            26   \n",
       "2  Young people deserve to be equipped with the s...             7   \n",
       "3  The European Council calls upon the Russian Fe...             6   \n",
       "4  COVID will potentially reverse decades of prog...             7   \n",
       "\n",
       "  favorite_count  \n",
       "0             15  \n",
       "1             44  \n",
       "2             18  \n",
       "3             14  \n",
       "4             17  "
      ]
     },
     "execution_count": 22,
     "metadata": {},
     "output_type": "execute_result"
    }
   ],
   "source": [
    "df.head()"
   ]
  },
  {
   "cell_type": "code",
   "execution_count": 23,
   "metadata": {},
   "outputs": [
    {
     "data": {
      "text/html": [
       "<div>\n",
       "<style scoped>\n",
       "    .dataframe tbody tr th:only-of-type {\n",
       "        vertical-align: middle;\n",
       "    }\n",
       "\n",
       "    .dataframe tbody tr th {\n",
       "        vertical-align: top;\n",
       "    }\n",
       "\n",
       "    .dataframe thead th {\n",
       "        text-align: right;\n",
       "    }\n",
       "</style>\n",
       "<table border=\"1\" class=\"dataframe\">\n",
       "  <thead>\n",
       "    <tr style=\"text-align: right;\">\n",
       "      <th></th>\n",
       "      <th>timestamp_post</th>\n",
       "      <th>tweet_id</th>\n",
       "      <th>tweet_url</th>\n",
       "      <th>tweet_text</th>\n",
       "      <th>retweet_count</th>\n",
       "      <th>favorite_count</th>\n",
       "    </tr>\n",
       "  </thead>\n",
       "  <tbody>\n",
       "    <tr>\n",
       "      <th>2</th>\n",
       "      <td>Thu Feb 06 16:24:00 +0000 2020</td>\n",
       "      <td>1225455110559539200</td>\n",
       "      <td>https://twitter.com/MinBZ/status/1225455110559...</td>\n",
       "      <td>Competition in the Gazan job market is high. \\...</td>\n",
       "      <td>12</td>\n",
       "      <td>32</td>\n",
       "    </tr>\n",
       "    <tr>\n",
       "      <th>3</th>\n",
       "      <td>Tue Feb 04 17:07:05 +0000 2020</td>\n",
       "      <td>1224741176944812032</td>\n",
       "      <td>https://twitter.com/MinBZ/status/1224741176944...</td>\n",
       "      <td>Women are key to economic welfare. The Netherl...</td>\n",
       "      <td>8</td>\n",
       "      <td>37</td>\n",
       "    </tr>\n",
       "    <tr>\n",
       "      <th>4</th>\n",
       "      <td>Mon Jan 27 17:39:09 +0000 2020</td>\n",
       "      <td>1221850142023802880</td>\n",
       "      <td>https://twitter.com/MinBZ/status/1221850142023...</td>\n",
       "      <td>Ending child labour must be part of a much bro...</td>\n",
       "      <td>6</td>\n",
       "      <td>9</td>\n",
       "    </tr>\n",
       "    <tr>\n",
       "      <th>5</th>\n",
       "      <td>Mon Jan 27 08:15:32 +0000 2020</td>\n",
       "      <td>1221708305720119301</td>\n",
       "      <td>https://twitter.com/MinBZ/status/1221708305720...</td>\n",
       "      <td>We remember the liberation of the Auschwitz-Bi...</td>\n",
       "      <td>61</td>\n",
       "      <td>116</td>\n",
       "    </tr>\n",
       "    <tr>\n",
       "      <th>6</th>\n",
       "      <td>Sun Jan 12 11:25:59 +0000 2020</td>\n",
       "      <td>1216320413891993600</td>\n",
       "      <td>https://twitter.com/MinBZ/status/1216320413891...</td>\n",
       "      <td>The Netherlands stands in full solidarity with...</td>\n",
       "      <td>35</td>\n",
       "      <td>67</td>\n",
       "    </tr>\n",
       "  </tbody>\n",
       "</table>\n",
       "</div>"
      ],
      "text/plain": [
       "                   timestamp_post             tweet_id  \\\n",
       "2  Thu Feb 06 16:24:00 +0000 2020  1225455110559539200   \n",
       "3  Tue Feb 04 17:07:05 +0000 2020  1224741176944812032   \n",
       "4  Mon Jan 27 17:39:09 +0000 2020  1221850142023802880   \n",
       "5  Mon Jan 27 08:15:32 +0000 2020  1221708305720119301   \n",
       "6  Sun Jan 12 11:25:59 +0000 2020  1216320413891993600   \n",
       "\n",
       "                                           tweet_url  \\\n",
       "2  https://twitter.com/MinBZ/status/1225455110559...   \n",
       "3  https://twitter.com/MinBZ/status/1224741176944...   \n",
       "4  https://twitter.com/MinBZ/status/1221850142023...   \n",
       "5  https://twitter.com/MinBZ/status/1221708305720...   \n",
       "6  https://twitter.com/MinBZ/status/1216320413891...   \n",
       "\n",
       "                                          tweet_text retweet_count  \\\n",
       "2  Competition in the Gazan job market is high. \\...            12   \n",
       "3  Women are key to economic welfare. The Netherl...             8   \n",
       "4  Ending child labour must be part of a much bro...             6   \n",
       "5  We remember the liberation of the Auschwitz-Bi...            61   \n",
       "6  The Netherlands stands in full solidarity with...            35   \n",
       "\n",
       "  favorite_count  \n",
       "2             32  \n",
       "3             37  \n",
       "4              9  \n",
       "5            116  \n",
       "6             67  "
      ]
     },
     "execution_count": 23,
     "metadata": {},
     "output_type": "execute_result"
    }
   ],
   "source": [
    "df.tail()"
   ]
  },
  {
   "cell_type": "markdown",
   "metadata": {},
   "source": [
    "## Pre-process data"
   ]
  },
  {
   "cell_type": "code",
   "execution_count": 24,
   "metadata": {
    "scrolled": false
   },
   "outputs": [],
   "source": [
    "class PreProcessing:\n",
    "    \n",
    "    #Function to rename columns\n",
    "    def rename_columns(dataf):\n",
    "\n",
    "        renamed_df = (dataf\n",
    "                          .rename(columns={'timestamp_post': 'date'})\n",
    "                     )\n",
    "\n",
    "        return renamed_df\n",
    "\n",
    "    #Function to change data type\n",
    "    def change_dtype(dataf):\n",
    "\n",
    "        changed_df = (dataf\n",
    "                          .assign(date = lambda d: pd.to_datetime(d['date']),\n",
    "                                  retweet_count = dataf['retweet_count'].astype(int),\n",
    "                                  favorite_count =  dataf['favorite_count'].astype(int)\n",
    "                                 )\n",
    "                     )\n",
    "\n",
    "        return changed_df\n",
    "\n",
    "    #Function to add columns\n",
    "    def add_columns(dataf):\n",
    "\n",
    "\n",
    "        add_col_df = (dataf\n",
    "                         .assign(hour = lambda d: d['date'].dt.hour,\n",
    "                                 day_name = lambda d: d['date'].dt.strftime('%A'),\n",
    "                                 day_number = lambda d: d['date'].dt.dayofweek)\n",
    "                     )\n",
    "\n",
    "        return add_col_df\n",
    "    \n",
    "    #Function to add outlink URL from t.co link\n",
    "    def add_outlink_redirect(dataf):\n",
    "\n",
    "        outlink_list = []\n",
    "        masked_outlink_urls = dataf['tweet_text'].str.findall('https?://[^\\s]+').str[0]\n",
    "\n",
    "        for url in masked_outlink_urls:\n",
    "\n",
    "            if type(url) == str:\n",
    "                outlink_list.append(requests.get(url).url)\n",
    "\n",
    "            else:\n",
    "                outlink_list.append('No Url')\n",
    "\n",
    "        outlink_df = (dataf.assign(outlink_url_masked = masked_outlink_urls,\n",
    "                                   outlink_url= outlink_list\n",
    "                                  )\n",
    "                      )\n",
    "\n",
    "        return outlink_df\n",
    "\n",
    "    #Remove outliers\n",
    "    def remove_outliers(dataf):\n",
    "\n",
    "        return dataf[(dataf['retweet_count'] < 30) & (dataf['favorite_count'] < 50)]  "
   ]
  },
  {
   "cell_type": "code",
   "execution_count": 25,
   "metadata": {},
   "outputs": [],
   "source": [
    "clean_df = (df\n",
    "            .pipe(PreProcessing.rename_columns)\n",
    "            .pipe(PreProcessing.change_dtype)\n",
    "            .pipe(PreProcessing.add_columns)\n",
    "            .pipe(PreProcessing.add_outlink_redirect)\n",
    "            .pipe(PreProcessing.remove_outliers)\n",
    "           )"
   ]
  },
  {
   "cell_type": "code",
   "execution_count": 26,
   "metadata": {
    "scrolled": false
   },
   "outputs": [
    {
     "data": {
      "text/html": [
       "<div>\n",
       "<style scoped>\n",
       "    .dataframe tbody tr th:only-of-type {\n",
       "        vertical-align: middle;\n",
       "    }\n",
       "\n",
       "    .dataframe tbody tr th {\n",
       "        vertical-align: top;\n",
       "    }\n",
       "\n",
       "    .dataframe thead th {\n",
       "        text-align: right;\n",
       "    }\n",
       "</style>\n",
       "<table border=\"1\" class=\"dataframe\">\n",
       "  <thead>\n",
       "    <tr style=\"text-align: right;\">\n",
       "      <th></th>\n",
       "      <th>date</th>\n",
       "      <th>tweet_id</th>\n",
       "      <th>tweet_url</th>\n",
       "      <th>tweet_text</th>\n",
       "      <th>retweet_count</th>\n",
       "      <th>favorite_count</th>\n",
       "      <th>hour</th>\n",
       "      <th>day_name</th>\n",
       "      <th>day_number</th>\n",
       "      <th>outlink_url_masked</th>\n",
       "      <th>outlink_url</th>\n",
       "    </tr>\n",
       "  </thead>\n",
       "  <tbody>\n",
       "    <tr>\n",
       "      <th>0</th>\n",
       "      <td>2020-10-20 14:22:52+00:00</td>\n",
       "      <td>1318558307720855552</td>\n",
       "      <td>https://twitter.com/MinBZ/status/1318558307720...</td>\n",
       "      <td>Tech entrepreneur Tey El-Rjula aims to make a ...</td>\n",
       "      <td>8</td>\n",
       "      <td>15</td>\n",
       "      <td>14</td>\n",
       "      <td>Tuesday</td>\n",
       "      <td>1</td>\n",
       "      <td>https://t.co/UwO0or9Ry0</td>\n",
       "      <td>https://www.youthatheart.nl/latest/news/2020/1...</td>\n",
       "    </tr>\n",
       "    <tr>\n",
       "      <th>1</th>\n",
       "      <td>2020-10-19 16:45:29+00:00</td>\n",
       "      <td>1318231809759522821</td>\n",
       "      <td>https://twitter.com/MinBZ/status/1318231809759...</td>\n",
       "      <td>In recent weeks coronavirus has had too many o...</td>\n",
       "      <td>26</td>\n",
       "      <td>44</td>\n",
       "      <td>16</td>\n",
       "      <td>Monday</td>\n",
       "      <td>0</td>\n",
       "      <td>https://t.co/epopOrQJeY</td>\n",
       "      <td>https://www.government.nl/latest/news/2020/10/...</td>\n",
       "    </tr>\n",
       "    <tr>\n",
       "      <th>2</th>\n",
       "      <td>2020-10-16 15:12:05+00:00</td>\n",
       "      <td>1317121141916471296</td>\n",
       "      <td>https://twitter.com/MinBZ/status/1317121141916...</td>\n",
       "      <td>Young people deserve to be equipped with the s...</td>\n",
       "      <td>7</td>\n",
       "      <td>18</td>\n",
       "      <td>15</td>\n",
       "      <td>Friday</td>\n",
       "      <td>4</td>\n",
       "      <td>https://t.co/LrwhMUs1Tn</td>\n",
       "      <td>https://www.youthatheart.nl/latest/news/2020/1...</td>\n",
       "    </tr>\n",
       "    <tr>\n",
       "      <th>3</th>\n",
       "      <td>2020-10-16 14:43:10+00:00</td>\n",
       "      <td>1317113863544971272</td>\n",
       "      <td>https://twitter.com/MinBZ/status/1317113863544...</td>\n",
       "      <td>The European Council calls upon the Russian Fe...</td>\n",
       "      <td>6</td>\n",
       "      <td>14</td>\n",
       "      <td>14</td>\n",
       "      <td>Friday</td>\n",
       "      <td>4</td>\n",
       "      <td>https://t.co/TVeWkZDVS1</td>\n",
       "      <td>https://twitter.com/eucouncilpress/status/1317...</td>\n",
       "    </tr>\n",
       "    <tr>\n",
       "      <th>4</th>\n",
       "      <td>2020-10-15 16:13:09+00:00</td>\n",
       "      <td>1316774121758490624</td>\n",
       "      <td>https://twitter.com/MinBZ/status/1316774121758...</td>\n",
       "      <td>COVID will potentially reverse decades of prog...</td>\n",
       "      <td>7</td>\n",
       "      <td>17</td>\n",
       "      <td>16</td>\n",
       "      <td>Thursday</td>\n",
       "      <td>3</td>\n",
       "      <td>https://t.co/gagZWYdBo6</td>\n",
       "      <td>https://www.forbes.com/sites/worldeconomicforu...</td>\n",
       "    </tr>\n",
       "  </tbody>\n",
       "</table>\n",
       "</div>"
      ],
      "text/plain": [
       "                       date             tweet_id  \\\n",
       "0 2020-10-20 14:22:52+00:00  1318558307720855552   \n",
       "1 2020-10-19 16:45:29+00:00  1318231809759522821   \n",
       "2 2020-10-16 15:12:05+00:00  1317121141916471296   \n",
       "3 2020-10-16 14:43:10+00:00  1317113863544971272   \n",
       "4 2020-10-15 16:13:09+00:00  1316774121758490624   \n",
       "\n",
       "                                           tweet_url  \\\n",
       "0  https://twitter.com/MinBZ/status/1318558307720...   \n",
       "1  https://twitter.com/MinBZ/status/1318231809759...   \n",
       "2  https://twitter.com/MinBZ/status/1317121141916...   \n",
       "3  https://twitter.com/MinBZ/status/1317113863544...   \n",
       "4  https://twitter.com/MinBZ/status/1316774121758...   \n",
       "\n",
       "                                          tweet_text  retweet_count  \\\n",
       "0  Tech entrepreneur Tey El-Rjula aims to make a ...              8   \n",
       "1  In recent weeks coronavirus has had too many o...             26   \n",
       "2  Young people deserve to be equipped with the s...              7   \n",
       "3  The European Council calls upon the Russian Fe...              6   \n",
       "4  COVID will potentially reverse decades of prog...              7   \n",
       "\n",
       "   favorite_count  hour  day_name  day_number       outlink_url_masked  \\\n",
       "0              15    14   Tuesday           1  https://t.co/UwO0or9Ry0   \n",
       "1              44    16    Monday           0  https://t.co/epopOrQJeY   \n",
       "2              18    15    Friday           4  https://t.co/LrwhMUs1Tn   \n",
       "3              14    14    Friday           4  https://t.co/TVeWkZDVS1   \n",
       "4              17    16  Thursday           3  https://t.co/gagZWYdBo6   \n",
       "\n",
       "                                         outlink_url  \n",
       "0  https://www.youthatheart.nl/latest/news/2020/1...  \n",
       "1  https://www.government.nl/latest/news/2020/10/...  \n",
       "2  https://www.youthatheart.nl/latest/news/2020/1...  \n",
       "3  https://twitter.com/eucouncilpress/status/1317...  \n",
       "4  https://www.forbes.com/sites/worldeconomicforu...  "
      ]
     },
     "execution_count": 26,
     "metadata": {},
     "output_type": "execute_result"
    }
   ],
   "source": [
    "clean_df.head()"
   ]
  },
  {
   "cell_type": "code",
   "execution_count": 27,
   "metadata": {
    "scrolled": false
   },
   "outputs": [
    {
     "name": "stdout",
     "output_type": "stream",
     "text": [
      "<class 'pandas.core.frame.DataFrame'>\n",
      "Int64Index: 71 entries, 0 to 4\n",
      "Data columns (total 11 columns):\n",
      " #   Column              Non-Null Count  Dtype              \n",
      "---  ------              --------------  -----              \n",
      " 0   date                71 non-null     datetime64[ns, UTC]\n",
      " 1   tweet_id            71 non-null     object             \n",
      " 2   tweet_url           71 non-null     object             \n",
      " 3   tweet_text          71 non-null     object             \n",
      " 4   retweet_count       71 non-null     int32              \n",
      " 5   favorite_count      71 non-null     int32              \n",
      " 6   hour                71 non-null     int64              \n",
      " 7   day_name            71 non-null     object             \n",
      " 8   day_number          71 non-null     int64              \n",
      " 9   outlink_url_masked  68 non-null     object             \n",
      " 10  outlink_url         71 non-null     object             \n",
      "dtypes: datetime64[ns, UTC](1), int32(2), int64(2), object(6)\n",
      "memory usage: 6.1+ KB\n"
     ]
    }
   ],
   "source": [
    "clean_df.info()"
   ]
  },
  {
   "cell_type": "code",
   "execution_count": 28,
   "metadata": {},
   "outputs": [
    {
     "data": {
      "text/plain": [
       "71"
      ]
     },
     "execution_count": 28,
     "metadata": {},
     "output_type": "execute_result"
    }
   ],
   "source": [
    "len(clean_df)"
   ]
  },
  {
   "cell_type": "markdown",
   "metadata": {},
   "source": [
    "## Analyze & Visualize"
   ]
  },
  {
   "cell_type": "markdown",
   "metadata": {},
   "source": [
    "**Retweets**"
   ]
  },
  {
   "cell_type": "code",
   "execution_count": 29,
   "metadata": {
    "scrolled": false
   },
   "outputs": [
    {
     "data": {
      "image/png": "[encoded data removed]",
      "text/plain": [
       "<Figure size 1152x432 with 2 Axes>"
      ]
     },
     "metadata": {},
     "output_type": "display_data"
    }
   ],
   "source": [
    "#Set style\n",
    "sns.set_style('whitegrid')\n",
    "\n",
    "#Create subplot to plot on\n",
    "fig, (ax1,ax2) = plt.subplots(nrows=1, ncols=2, figsize=(16,6))\n",
    "\n",
    "#Scatterplots including reg line\n",
    "sns.regplot(x='hour', y='retweet_count', data=clean_df, ax=ax1)\n",
    "sns.regplot(x='day_number', y='retweet_count', data=clean_df, ax=ax2);\n",
    "\n",
    "#Set xaxisticklabels to integer\n",
    "ax1.xaxis.set_major_locator(MaxNLocator(integer=True))"
   ]
  },
  {
   "cell_type": "markdown",
   "metadata": {},
   "source": [
    "**Favorites**"
   ]
  },
  {
   "cell_type": "code",
   "execution_count": 30,
   "metadata": {
    "scrolled": false
   },
   "outputs": [
    {
     "data": {
      "image/png": "[encoded data removed]",
      "text/plain": [
       "<Figure size 1152x432 with 2 Axes>"
      ]
     },
     "metadata": {},
     "output_type": "display_data"
    }
   ],
   "source": [
    "#Create subplot to plot on\n",
    "fig, (ax1,ax2) = plt.subplots(nrows=1, ncols=2, figsize=(16,6))\n",
    "\n",
    "#Scatterplots including reg line\n",
    "sns.regplot(x='hour', y='favorite_count', data=clean_df, ax=ax1)\n",
    "sns.regplot(x='day_number', y='favorite_count', data=clean_df, ax=ax2);\n",
    "\n",
    "#Set xaxisticklabels to integer\n",
    "ax1.xaxis.set_major_locator(MaxNLocator(integer=True))"
   ]
  },
  {
   "cell_type": "markdown",
   "metadata": {},
   "source": [
    "**Day of week**"
   ]
  },
  {
   "cell_type": "code",
   "execution_count": 31,
   "metadata": {
    "scrolled": false
   },
   "outputs": [
    {
     "name": "stderr",
     "output_type": "stream",
     "text": [
      "<ipython-input-31-97a88d804ef1>:8: UserWarning: FixedFormatter should only be used together with FixedLocator\n",
      "  ax1.set_xticklabels(['Maandag', 'Maandag', 'Dinsdag', 'Woensdag', 'Donderdag', 'Vrijdag', 'Zaterdag', 'Zondag'])\n",
      "<ipython-input-31-97a88d804ef1>:17: UserWarning: FixedFormatter should only be used together with FixedLocator\n",
      "  ax2.set_xticklabels(['Maandag', 'Maandag', 'Dinsdag', 'Woensdag', 'Donderdag', 'Vrijdag', 'Zaterdag', 'Zondag'])\n"
     ]
    },
    {
     "data": {
      "image/png": "[encoded data removed]",
      "text/plain": [
       "<Figure size 1152x432 with 2 Axes>"
      ]
     },
     "metadata": {},
     "output_type": "display_data"
    }
   ],
   "source": [
    "#Create subplot to plot on\n",
    "fig, (ax1,ax2) = plt.subplots(nrows=1, ncols=2, figsize=(16,6))\n",
    "\n",
    "#Scatterplot including reg line\n",
    "sns.regplot(x='day_number', y='retweet_count', data=clean_df, ax=ax1)\n",
    "\n",
    "#Format chart\n",
    "ax1.set_xticklabels(['Maandag', 'Maandag', 'Dinsdag', 'Woensdag', 'Donderdag', 'Vrijdag', 'Zaterdag', 'Zondag'])\n",
    "ax1.set_xlabel(\"\")\n",
    "ax1.set_ylabel(\"\")\n",
    "ax1.set_title('Retweets')\n",
    "\n",
    "#Scatterplot including reg line\n",
    "sns.regplot(x='day_number', y='favorite_count', data=clean_df, ax=ax2);\n",
    "\n",
    "#Format chart\n",
    "ax2.set_xticklabels(['Maandag', 'Maandag', 'Dinsdag', 'Woensdag', 'Donderdag', 'Vrijdag', 'Zaterdag', 'Zondag'])\n",
    "ax2.set_xlabel(\"\")\n",
    "ax2.set_ylabel(\"\")\n",
    "ax2.set_title('Likes');"
   ]
  },
  {
   "cell_type": "markdown",
   "metadata": {},
   "source": [
    "**Average per hour**"
   ]
  },
  {
   "cell_type": "code",
   "execution_count": 32,
   "metadata": {},
   "outputs": [],
   "source": [
    "#Group by hour and capture average values\n",
    "group_by_hour = (clean_df\n",
    "                   .groupby('hour')\n",
    "                   .mean()\n",
    "                )"
   ]
  },
  {
   "cell_type": "code",
   "execution_count": 33,
   "metadata": {
    "scrolled": false
   },
   "outputs": [
    {
     "data": {
      "image/png": "[encoded data removed]",
      "text/plain": [
       "<Figure size 1152x432 with 2 Axes>"
      ]
     },
     "metadata": {},
     "output_type": "display_data"
    }
   ],
   "source": [
    "#Create subplot to plot on\n",
    "fig, (ax1,ax2) = plt.subplots(nrows=1, ncols=2, figsize=(16,6))\n",
    "\n",
    "#Plot barcharts\n",
    "sns.barplot(x=group_by_hour.index, y='retweet_count', data=group_by_hour, ax=ax1)\n",
    "sns.barplot(x=group_by_hour.index, y='favorite_count', data=group_by_hour, ax=ax2);"
   ]
  },
  {
   "cell_type": "markdown",
   "metadata": {},
   "source": [
    "**Average per day**"
   ]
  },
  {
   "cell_type": "code",
   "execution_count": 34,
   "metadata": {},
   "outputs": [],
   "source": [
    "#Group by hour and capture average values\n",
    "group_by_day = (clean_df\n",
    "                   .groupby('day_number')\n",
    "                   .mean()\n",
    "               )"
   ]
  },
  {
   "cell_type": "code",
   "execution_count": 35,
   "metadata": {},
   "outputs": [
    {
     "data": {
      "image/png": "[encoded data removed]",
      "text/plain": [
       "<Figure size 1152x432 with 2 Axes>"
      ]
     },
     "metadata": {},
     "output_type": "display_data"
    }
   ],
   "source": [
    "#Create subplot to plot on\n",
    "fig, (ax1,ax2) = plt.subplots(nrows=1, ncols=2, figsize=(16,6))\n",
    "\n",
    "#Plot retweets per day\n",
    "sns.barplot(x=group_by_day.index, y='retweet_count', data=group_by_day, ax=ax1)\n",
    "\n",
    "#Format chart\n",
    "ax1.set_xticklabels(['Maandag', 'Dinsdag', 'Woensdag', 'Donderdag', 'Vrijdag', 'Zaterdag', 'Zondag'])\n",
    "ax1.set_xlabel(\"\")\n",
    "ax1.set_ylabel(\"\")\n",
    "ax1.set_title('Retweets')\n",
    "\n",
    "#Plot favorites/likes per day\n",
    "sns.barplot(x=group_by_day.index, y='favorite_count', data=group_by_day, ax=ax2)\n",
    "\n",
    "#Format chart\n",
    "ax2.set_xticklabels(['Maandag', 'Dinsdag', 'Woensdag', 'Donderdag', 'Vrijdag', 'Zaterdag', 'Zondag'])\n",
    "ax2.set_xlabel(\"\")\n",
    "ax2.set_ylabel(\"\")\n",
    "ax2.set_title('Likes');"
   ]
  },
  {
   "cell_type": "markdown",
   "metadata": {},
   "source": [
    "## Correlation & regression"
   ]
  },
  {
   "cell_type": "markdown",
   "metadata": {},
   "source": [
    "- Negative correlation between hour and retweet/favorite count\n",
    "- Positive correlation between day number and retweet/favorite count"
   ]
  },
  {
   "cell_type": "code",
   "execution_count": 36,
   "metadata": {},
   "outputs": [
    {
     "data": {
      "text/html": [
       "<div>\n",
       "<style scoped>\n",
       "    .dataframe tbody tr th:only-of-type {\n",
       "        vertical-align: middle;\n",
       "    }\n",
       "\n",
       "    .dataframe tbody tr th {\n",
       "        vertical-align: top;\n",
       "    }\n",
       "\n",
       "    .dataframe thead th {\n",
       "        text-align: right;\n",
       "    }\n",
       "</style>\n",
       "<table border=\"1\" class=\"dataframe\">\n",
       "  <thead>\n",
       "    <tr style=\"text-align: right;\">\n",
       "      <th></th>\n",
       "      <th>hour</th>\n",
       "      <th>day_number</th>\n",
       "    </tr>\n",
       "  </thead>\n",
       "  <tbody>\n",
       "    <tr>\n",
       "      <th>retweet_count</th>\n",
       "      <td>-0.022343</td>\n",
       "      <td>0.089336</td>\n",
       "    </tr>\n",
       "    <tr>\n",
       "      <th>favorite_count</th>\n",
       "      <td>-0.113523</td>\n",
       "      <td>0.016442</td>\n",
       "    </tr>\n",
       "  </tbody>\n",
       "</table>\n",
       "</div>"
      ],
      "text/plain": [
       "                    hour  day_number\n",
       "retweet_count  -0.022343    0.089336\n",
       "favorite_count -0.113523    0.016442"
      ]
     },
     "execution_count": 36,
     "metadata": {},
     "output_type": "execute_result"
    }
   ],
   "source": [
    "#Correlation df \n",
    "(clean_df\n",
    " .corr()\n",
    " .loc[['retweet_count', 'favorite_count'], ['hour', 'day_number']]\n",
    ")"
   ]
  },
  {
   "cell_type": "markdown",
   "metadata": {},
   "source": [
    "**Retweets**"
   ]
  },
  {
   "cell_type": "code",
   "execution_count": 37,
   "metadata": {},
   "outputs": [],
   "source": [
    "#Define explanatory variables\n",
    "X = clean_df[['hour', 'day_number']]\n",
    "\n",
    "#Define dependent variable\n",
    "y_retweet = clean_df['retweet_count']"
   ]
  },
  {
   "cell_type": "code",
   "execution_count": 38,
   "metadata": {},
   "outputs": [],
   "source": [
    "#Initiate OLS regression object\n",
    "reg_retweets_ols = OLS(y_retweet, X)"
   ]
  },
  {
   "cell_type": "code",
   "execution_count": 39,
   "metadata": {},
   "outputs": [],
   "source": [
    "#Fit OLS model\n",
    "results_retweets_ols = reg_retweets_ols.fit()"
   ]
  },
  {
   "cell_type": "markdown",
   "metadata": {},
   "source": [
    "- We observe a positive effect of posting later on the day for retweets on @minbz\n",
    "- We observe a positive effect of posting later in the week for retweets on @minBZ"
   ]
  },
  {
   "cell_type": "code",
   "execution_count": 40,
   "metadata": {
    "scrolled": false
   },
   "outputs": [
    {
     "data": {
      "text/html": [
       "<table class=\"simpletable\">\n",
       "<caption>OLS Regression Results</caption>\n",
       "<tr>\n",
       "  <th>Dep. Variable:</th>      <td>retweet_count</td>  <th>  R-squared (uncentered):</th>      <td>   0.787</td>\n",
       "</tr>\n",
       "<tr>\n",
       "  <th>Model:</th>                   <td>OLS</td>       <th>  Adj. R-squared (uncentered):</th> <td>   0.781</td>\n",
       "</tr>\n",
       "<tr>\n",
       "  <th>Method:</th>             <td>Least Squares</td>  <th>  F-statistic:       </th>          <td>   127.8</td>\n",
       "</tr>\n",
       "<tr>\n",
       "  <th>Date:</th>             <td>Fri, 29 Jan 2021</td> <th>  Prob (F-statistic):</th>          <td>6.32e-24</td>\n",
       "</tr>\n",
       "<tr>\n",
       "  <th>Time:</th>                 <td>17:10:08</td>     <th>  Log-Likelihood:    </th>          <td> -239.60</td>\n",
       "</tr>\n",
       "<tr>\n",
       "  <th>No. Observations:</th>      <td>    71</td>      <th>  AIC:               </th>          <td>   483.2</td>\n",
       "</tr>\n",
       "<tr>\n",
       "  <th>Df Residuals:</th>          <td>    69</td>      <th>  BIC:               </th>          <td>   487.7</td>\n",
       "</tr>\n",
       "<tr>\n",
       "  <th>Df Model:</th>              <td>     2</td>      <th>                     </th>              <td> </td>   \n",
       "</tr>\n",
       "<tr>\n",
       "  <th>Covariance Type:</th>      <td>nonrobust</td>    <th>                     </th>              <td> </td>   \n",
       "</tr>\n",
       "</table>\n",
       "<table class=\"simpletable\">\n",
       "<tr>\n",
       "       <td></td>         <th>coef</th>     <th>std err</th>      <th>t</th>      <th>P>|t|</th>  <th>[0.025</th>    <th>0.975]</th>  \n",
       "</tr>\n",
       "<tr>\n",
       "  <th>hour</th>       <td>    0.7042</td> <td>    0.098</td> <td>    7.206</td> <td> 0.000</td> <td>    0.509</td> <td>    0.899</td>\n",
       "</tr>\n",
       "<tr>\n",
       "  <th>day_number</th> <td>    1.3653</td> <td>    0.484</td> <td>    2.823</td> <td> 0.006</td> <td>    0.401</td> <td>    2.330</td>\n",
       "</tr>\n",
       "</table>\n",
       "<table class=\"simpletable\">\n",
       "<tr>\n",
       "  <th>Omnibus:</th>       <td> 2.981</td> <th>  Durbin-Watson:     </th> <td>   1.715</td>\n",
       "</tr>\n",
       "<tr>\n",
       "  <th>Prob(Omnibus):</th> <td> 0.225</td> <th>  Jarque-Bera (JB):  </th> <td>   2.911</td>\n",
       "</tr>\n",
       "<tr>\n",
       "  <th>Skew:</th>          <td> 0.450</td> <th>  Prob(JB):          </th> <td>   0.233</td>\n",
       "</tr>\n",
       "<tr>\n",
       "  <th>Kurtosis:</th>      <td> 2.582</td> <th>  Cond. No.          </th> <td>    8.45</td>\n",
       "</tr>\n",
       "</table><br/><br/>Notes:<br/>[1] R² is computed without centering (uncentered) since the model does not contain a constant.<br/>[2] Standard Errors assume that the covariance matrix of the errors is correctly specified."
      ],
      "text/plain": [
       "<class 'statsmodels.iolib.summary.Summary'>\n",
       "\"\"\"\n",
       "                                 OLS Regression Results                                \n",
       "=======================================================================================\n",
       "Dep. Variable:          retweet_count   R-squared (uncentered):                   0.787\n",
       "Model:                            OLS   Adj. R-squared (uncentered):              0.781\n",
       "Method:                 Least Squares   F-statistic:                              127.8\n",
       "Date:                Fri, 29 Jan 2021   Prob (F-statistic):                    6.32e-24\n",
       "Time:                        17:10:08   Log-Likelihood:                         -239.60\n",
       "No. Observations:                  71   AIC:                                      483.2\n",
       "Df Residuals:                      69   BIC:                                      487.7\n",
       "Df Model:                           2                                                  \n",
       "Covariance Type:            nonrobust                                                  \n",
       "==============================================================================\n",
       "                 coef    std err          t      P>|t|      [0.025      0.975]\n",
       "------------------------------------------------------------------------------\n",
       "hour           0.7042      0.098      7.206      0.000       0.509       0.899\n",
       "day_number     1.3653      0.484      2.823      0.006       0.401       2.330\n",
       "==============================================================================\n",
       "Omnibus:                        2.981   Durbin-Watson:                   1.715\n",
       "Prob(Omnibus):                  0.225   Jarque-Bera (JB):                2.911\n",
       "Skew:                           0.450   Prob(JB):                        0.233\n",
       "Kurtosis:                       2.582   Cond. No.                         8.45\n",
       "==============================================================================\n",
       "\n",
       "Notes:\n",
       "[1] R² is computed without centering (uncentered) since the model does not contain a constant.\n",
       "[2] Standard Errors assume that the covariance matrix of the errors is correctly specified.\n",
       "\"\"\""
      ]
     },
     "execution_count": 40,
     "metadata": {},
     "output_type": "execute_result"
    }
   ],
   "source": [
    "#Evaluate results\n",
    "results_retweets_ols.summary()"
   ]
  },
  {
   "cell_type": "markdown",
   "metadata": {},
   "source": [
    "**Favorites**"
   ]
  },
  {
   "cell_type": "code",
   "execution_count": 41,
   "metadata": {},
   "outputs": [],
   "source": [
    "#Define dependent variable\n",
    "y_favorites = clean_df['favorite_count']"
   ]
  },
  {
   "cell_type": "code",
   "execution_count": 42,
   "metadata": {},
   "outputs": [],
   "source": [
    "#Initiate OLS regression object\n",
    "reg_favorites_ols = OLS(y_favorites, X)"
   ]
  },
  {
   "cell_type": "code",
   "execution_count": 43,
   "metadata": {},
   "outputs": [],
   "source": [
    "#Fit OLS model\n",
    "results_favorites_ols = reg_favorites_ols.fit()"
   ]
  },
  {
   "cell_type": "markdown",
   "metadata": {},
   "source": [
    "- We observe a positive effect of posting later on the day for favorites on @minbz\n",
    "- We observe a positive effect of posting later in the week for favorites on @minBZ"
   ]
  },
  {
   "cell_type": "code",
   "execution_count": 44,
   "metadata": {
    "scrolled": false
   },
   "outputs": [
    {
     "data": {
      "text/html": [
       "<table class=\"simpletable\">\n",
       "<caption>OLS Regression Results</caption>\n",
       "<tr>\n",
       "  <th>Dep. Variable:</th>     <td>favorite_count</td>  <th>  R-squared (uncentered):</th>      <td>   0.784</td>\n",
       "</tr>\n",
       "<tr>\n",
       "  <th>Model:</th>                   <td>OLS</td>       <th>  Adj. R-squared (uncentered):</th> <td>   0.778</td>\n",
       "</tr>\n",
       "<tr>\n",
       "  <th>Method:</th>             <td>Least Squares</td>  <th>  F-statistic:       </th>          <td>   125.3</td>\n",
       "</tr>\n",
       "<tr>\n",
       "  <th>Date:</th>             <td>Fri, 29 Jan 2021</td> <th>  Prob (F-statistic):</th>          <td>1.08e-23</td>\n",
       "</tr>\n",
       "<tr>\n",
       "  <th>Time:</th>                 <td>17:11:08</td>     <th>  Log-Likelihood:    </th>          <td> -280.49</td>\n",
       "</tr>\n",
       "<tr>\n",
       "  <th>No. Observations:</th>      <td>    71</td>      <th>  AIC:               </th>          <td>   565.0</td>\n",
       "</tr>\n",
       "<tr>\n",
       "  <th>Df Residuals:</th>          <td>    69</td>      <th>  BIC:               </th>          <td>   569.5</td>\n",
       "</tr>\n",
       "<tr>\n",
       "  <th>Df Model:</th>              <td>     2</td>      <th>                     </th>              <td> </td>   \n",
       "</tr>\n",
       "<tr>\n",
       "  <th>Covariance Type:</th>      <td>nonrobust</td>    <th>                     </th>              <td> </td>   \n",
       "</tr>\n",
       "</table>\n",
       "<table class=\"simpletable\">\n",
       "<tr>\n",
       "       <td></td>         <th>coef</th>     <th>std err</th>      <th>t</th>      <th>P>|t|</th>  <th>[0.025</th>    <th>0.975]</th>  \n",
       "</tr>\n",
       "<tr>\n",
       "  <th>hour</th>       <td>    1.2798</td> <td>    0.174</td> <td>    7.362</td> <td> 0.000</td> <td>    0.933</td> <td>    1.627</td>\n",
       "</tr>\n",
       "<tr>\n",
       "  <th>day_number</th> <td>    2.1882</td> <td>    0.860</td> <td>    2.544</td> <td> 0.013</td> <td>    0.472</td> <td>    3.904</td>\n",
       "</tr>\n",
       "</table>\n",
       "<table class=\"simpletable\">\n",
       "<tr>\n",
       "  <th>Omnibus:</th>       <td>12.285</td> <th>  Durbin-Watson:     </th> <td>   1.855</td>\n",
       "</tr>\n",
       "<tr>\n",
       "  <th>Prob(Omnibus):</th> <td> 0.002</td> <th>  Jarque-Bera (JB):  </th> <td>   5.014</td>\n",
       "</tr>\n",
       "<tr>\n",
       "  <th>Skew:</th>          <td> 0.393</td> <th>  Prob(JB):          </th> <td>  0.0815</td>\n",
       "</tr>\n",
       "<tr>\n",
       "  <th>Kurtosis:</th>      <td> 1.962</td> <th>  Cond. No.          </th> <td>    8.45</td>\n",
       "</tr>\n",
       "</table><br/><br/>Notes:<br/>[1] R² is computed without centering (uncentered) since the model does not contain a constant.<br/>[2] Standard Errors assume that the covariance matrix of the errors is correctly specified."
      ],
      "text/plain": [
       "<class 'statsmodels.iolib.summary.Summary'>\n",
       "\"\"\"\n",
       "                                 OLS Regression Results                                \n",
       "=======================================================================================\n",
       "Dep. Variable:         favorite_count   R-squared (uncentered):                   0.784\n",
       "Model:                            OLS   Adj. R-squared (uncentered):              0.778\n",
       "Method:                 Least Squares   F-statistic:                              125.3\n",
       "Date:                Fri, 29 Jan 2021   Prob (F-statistic):                    1.08e-23\n",
       "Time:                        17:11:08   Log-Likelihood:                         -280.49\n",
       "No. Observations:                  71   AIC:                                      565.0\n",
       "Df Residuals:                      69   BIC:                                      569.5\n",
       "Df Model:                           2                                                  \n",
       "Covariance Type:            nonrobust                                                  \n",
       "==============================================================================\n",
       "                 coef    std err          t      P>|t|      [0.025      0.975]\n",
       "------------------------------------------------------------------------------\n",
       "hour           1.2798      0.174      7.362      0.000       0.933       1.627\n",
       "day_number     2.1882      0.860      2.544      0.013       0.472       3.904\n",
       "==============================================================================\n",
       "Omnibus:                       12.285   Durbin-Watson:                   1.855\n",
       "Prob(Omnibus):                  0.002   Jarque-Bera (JB):                5.014\n",
       "Skew:                           0.393   Prob(JB):                       0.0815\n",
       "Kurtosis:                       1.962   Cond. No.                         8.45\n",
       "==============================================================================\n",
       "\n",
       "Notes:\n",
       "[1] R² is computed without centering (uncentered) since the model does not contain a constant.\n",
       "[2] Standard Errors assume that the covariance matrix of the errors is correctly specified.\n",
       "\"\"\""
      ]
     },
     "execution_count": 44,
     "metadata": {},
     "output_type": "execute_result"
    }
   ],
   "source": [
    "#Evaluate results\n",
    "results_favorites_ols.summary()"
   ]
  }
 ],
 "metadata": {
  "kernelspec": {
   "display_name": "Python 3",
   "language": "python",
   "name": "python3"
  },
  "language_info": {
   "codemirror_mode": {
    "name": "ipython",
    "version": 3
   },
   "file_extension": ".py",
   "mimetype": "text/x-python",
   "name": "python",
   "nbconvert_exporter": "python",
   "pygments_lexer": "ipython3",
   "version": "3.8.5"
  }
 },
 "nbformat": 4,
 "nbformat_minor": 4
}
