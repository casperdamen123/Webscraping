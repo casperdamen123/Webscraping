{
 "cells": [
  {
   "cell_type": "markdown",
   "metadata": {},
   "source": [
    "## Get pages with register URL"
   ]
  },
  {
   "cell_type": "code",
   "execution_count": 25,
   "metadata": {},
   "outputs": [],
   "source": [
    "from bs4 import BeautifulSoup\n",
    "import pandas as pd\n",
    "from requests import get\n",
    "from pathlib import Path"
   ]
  },
  {
   "cell_type": "markdown",
   "metadata": {},
   "source": [
    "**Specify pages to scrape**"
   ]
  },
  {
   "cell_type": "code",
   "execution_count": 26,
   "metadata": {},
   "outputs": [],
   "source": [
    "#Define data path\n",
    "pages_data = Path('../Youth/pages_youth_at_heart.csv')"
   ]
  },
  {
   "cell_type": "code",
   "execution_count": 27,
   "metadata": {},
   "outputs": [],
   "source": [
    "#Load df\n",
    "pages_df = pd.read_csv(pages_data)"
   ]
  },
  {
   "cell_type": "code",
   "execution_count": 28,
   "metadata": {},
   "outputs": [
    {
     "data": {
      "text/html": [
       "<div>\n",
       "<style scoped>\n",
       "    .dataframe tbody tr th:only-of-type {\n",
       "        vertical-align: middle;\n",
       "    }\n",
       "\n",
       "    .dataframe tbody tr th {\n",
       "        vertical-align: top;\n",
       "    }\n",
       "\n",
       "    .dataframe thead th {\n",
       "        text-align: right;\n",
       "    }\n",
       "</style>\n",
       "<table border=\"1\" class=\"dataframe\">\n",
       "  <thead>\n",
       "    <tr style=\"text-align: right;\">\n",
       "      <th></th>\n",
       "      <th>URL</th>\n",
       "      <th>GA</th>\n",
       "      <th>GA_Remarketing</th>\n",
       "      <th>Universal_Analytics</th>\n",
       "      <th>GA_Exp</th>\n",
       "      <th>Google_Tag_Manager</th>\n",
       "      <th>Google_AdWords_Conversion</th>\n",
       "      <th>Google_Phone_Conversion</th>\n",
       "      <th>Google_AdWords_Remarketing</th>\n",
       "      <th>Google_AdWords_Remarketing_Dynamic</th>\n",
       "      <th>...</th>\n",
       "      <th>GTM_Google_AdWords_Conversion</th>\n",
       "      <th>GTM_DBLCLK_Counter</th>\n",
       "      <th>GTM_DBLCLK_Sell</th>\n",
       "      <th>GTM_Survey</th>\n",
       "      <th>GTM_Optimize</th>\n",
       "      <th>Optimize</th>\n",
       "      <th>UAs</th>\n",
       "      <th>GTMs</th>\n",
       "      <th>GA_GATG</th>\n",
       "      <th>GA_GATG_Header</th>\n",
       "    </tr>\n",
       "  </thead>\n",
       "  <tbody>\n",
       "    <tr>\n",
       "      <th>0</th>\n",
       "      <td>https://www.youthatheart.nl/</td>\n",
       "      <td>0</td>\n",
       "      <td>0</td>\n",
       "      <td>0</td>\n",
       "      <td>0</td>\n",
       "      <td>0</td>\n",
       "      <td>0</td>\n",
       "      <td>0</td>\n",
       "      <td>0</td>\n",
       "      <td>0</td>\n",
       "      <td>...</td>\n",
       "      <td>0</td>\n",
       "      <td>0</td>\n",
       "      <td>0</td>\n",
       "      <td>0</td>\n",
       "      <td>0</td>\n",
       "      <td>0</td>\n",
       "      <td>NaN</td>\n",
       "      <td>NaN</td>\n",
       "      <td>0</td>\n",
       "      <td>0</td>\n",
       "    </tr>\n",
       "    <tr>\n",
       "      <th>1</th>\n",
       "      <td>https://www.youthatheart.nl/cookies</td>\n",
       "      <td>0</td>\n",
       "      <td>0</td>\n",
       "      <td>0</td>\n",
       "      <td>0</td>\n",
       "      <td>0</td>\n",
       "      <td>0</td>\n",
       "      <td>0</td>\n",
       "      <td>0</td>\n",
       "      <td>0</td>\n",
       "      <td>...</td>\n",
       "      <td>0</td>\n",
       "      <td>0</td>\n",
       "      <td>0</td>\n",
       "      <td>0</td>\n",
       "      <td>0</td>\n",
       "      <td>0</td>\n",
       "      <td>NaN</td>\n",
       "      <td>NaN</td>\n",
       "      <td>0</td>\n",
       "      <td>0</td>\n",
       "    </tr>\n",
       "    <tr>\n",
       "      <th>2</th>\n",
       "      <td>https://www.youthatheart.nl/report-vulnerability</td>\n",
       "      <td>0</td>\n",
       "      <td>0</td>\n",
       "      <td>0</td>\n",
       "      <td>0</td>\n",
       "      <td>0</td>\n",
       "      <td>0</td>\n",
       "      <td>0</td>\n",
       "      <td>0</td>\n",
       "      <td>0</td>\n",
       "      <td>...</td>\n",
       "      <td>0</td>\n",
       "      <td>0</td>\n",
       "      <td>0</td>\n",
       "      <td>0</td>\n",
       "      <td>0</td>\n",
       "      <td>0</td>\n",
       "      <td>NaN</td>\n",
       "      <td>NaN</td>\n",
       "      <td>0</td>\n",
       "      <td>0</td>\n",
       "    </tr>\n",
       "    <tr>\n",
       "      <th>3</th>\n",
       "      <td>https://www.youthatheart.nl/copyright</td>\n",
       "      <td>0</td>\n",
       "      <td>0</td>\n",
       "      <td>0</td>\n",
       "      <td>0</td>\n",
       "      <td>0</td>\n",
       "      <td>0</td>\n",
       "      <td>0</td>\n",
       "      <td>0</td>\n",
       "      <td>0</td>\n",
       "      <td>...</td>\n",
       "      <td>0</td>\n",
       "      <td>0</td>\n",
       "      <td>0</td>\n",
       "      <td>0</td>\n",
       "      <td>0</td>\n",
       "      <td>0</td>\n",
       "      <td>NaN</td>\n",
       "      <td>NaN</td>\n",
       "      <td>0</td>\n",
       "      <td>0</td>\n",
       "    </tr>\n",
       "    <tr>\n",
       "      <th>4</th>\n",
       "      <td>https://www.youthatheart.nl/contact</td>\n",
       "      <td>0</td>\n",
       "      <td>0</td>\n",
       "      <td>0</td>\n",
       "      <td>0</td>\n",
       "      <td>0</td>\n",
       "      <td>0</td>\n",
       "      <td>0</td>\n",
       "      <td>0</td>\n",
       "      <td>0</td>\n",
       "      <td>...</td>\n",
       "      <td>0</td>\n",
       "      <td>0</td>\n",
       "      <td>0</td>\n",
       "      <td>0</td>\n",
       "      <td>0</td>\n",
       "      <td>0</td>\n",
       "      <td>NaN</td>\n",
       "      <td>NaN</td>\n",
       "      <td>0</td>\n",
       "      <td>0</td>\n",
       "    </tr>\n",
       "  </tbody>\n",
       "</table>\n",
       "<p>5 rows × 27 columns</p>\n",
       "</div>"
      ],
      "text/plain": [
       "                                                URL  GA  GA_Remarketing  \\\n",
       "0                      https://www.youthatheart.nl/   0               0   \n",
       "1               https://www.youthatheart.nl/cookies   0               0   \n",
       "2  https://www.youthatheart.nl/report-vulnerability   0               0   \n",
       "3             https://www.youthatheart.nl/copyright   0               0   \n",
       "4               https://www.youthatheart.nl/contact   0               0   \n",
       "\n",
       "   Universal_Analytics  GA_Exp  Google_Tag_Manager  Google_AdWords_Conversion  \\\n",
       "0                    0       0                   0                          0   \n",
       "1                    0       0                   0                          0   \n",
       "2                    0       0                   0                          0   \n",
       "3                    0       0                   0                          0   \n",
       "4                    0       0                   0                          0   \n",
       "\n",
       "   Google_Phone_Conversion  Google_AdWords_Remarketing  \\\n",
       "0                        0                           0   \n",
       "1                        0                           0   \n",
       "2                        0                           0   \n",
       "3                        0                           0   \n",
       "4                        0                           0   \n",
       "\n",
       "   Google_AdWords_Remarketing_Dynamic  ...  GTM_Google_AdWords_Conversion  \\\n",
       "0                                   0  ...                              0   \n",
       "1                                   0  ...                              0   \n",
       "2                                   0  ...                              0   \n",
       "3                                   0  ...                              0   \n",
       "4                                   0  ...                              0   \n",
       "\n",
       "   GTM_DBLCLK_Counter  GTM_DBLCLK_Sell  GTM_Survey  GTM_Optimize  Optimize  \\\n",
       "0                   0                0           0             0         0   \n",
       "1                   0                0           0             0         0   \n",
       "2                   0                0           0             0         0   \n",
       "3                   0                0           0             0         0   \n",
       "4                   0                0           0             0         0   \n",
       "\n",
       "   UAs  GTMs  GA_GATG  GA_GATG_Header  \n",
       "0  NaN   NaN        0               0  \n",
       "1  NaN   NaN        0               0  \n",
       "2  NaN   NaN        0               0  \n",
       "3  NaN   NaN        0               0  \n",
       "4  NaN   NaN        0               0  \n",
       "\n",
       "[5 rows x 27 columns]"
      ]
     },
     "execution_count": 28,
     "metadata": {},
     "output_type": "execute_result"
    }
   ],
   "source": [
    "pages_df.head()"
   ]
  },
  {
   "cell_type": "code",
   "execution_count": 54,
   "metadata": {
    "scrolled": true
   },
   "outputs": [],
   "source": [
    "pages = pages_df['URL'].to_list()    "
   ]
  },
  {
   "cell_type": "markdown",
   "metadata": {},
   "source": [
    "**Scrape hrefs**"
   ]
  },
  {
   "cell_type": "code",
   "execution_count": 45,
   "metadata": {},
   "outputs": [],
   "source": [
    "def check_for_register_link(url_list):\n",
    "    \n",
    "    contains_register_list = []\n",
    "    for url in url_list:\n",
    "        \n",
    "        #Get response from GET request\n",
    "        response = get(url)\n",
    "        \n",
    "        #Capture HTML from URL\n",
    "        html_soup = BeautifulSoup(response.text, 'html.parser')\n",
    "\n",
    "        #Capture all href's in a list:\n",
    "        href_list = []\n",
    "        for a in html_soup.find_all('a', href=True):\n",
    "            href_list.append(a['href'])          \n",
    "        \n",
    "        #Append boolean if register is present in hrefs for page\n",
    "        contains_register_list.append('/register' in href_list)\n",
    "            \n",
    "    #Create dataframe   \n",
    "    register_overview_df = pd.DataFrame({'url': url_list, 'contain_register': contains_register_list})\n",
    "    \n",
    "    return register_overview_df"
   ]
  },
  {
   "cell_type": "code",
   "execution_count": 46,
   "metadata": {
    "scrolled": false
   },
   "outputs": [],
   "source": [
    "register_overview_df = check_for_register_link(pages)"
   ]
  },
  {
   "cell_type": "code",
   "execution_count": 59,
   "metadata": {},
   "outputs": [],
   "source": [
    "register_pages = (register_overview_df[register_overview_df['contain_register'] == True]['url']\n",
    "                  .apply(lambda p: '(^' + p + '$)')\n",
    "                  .to_list()\n",
    "                 )"
   ]
  },
  {
   "cell_type": "code",
   "execution_count": 60,
   "metadata": {},
   "outputs": [
    {
     "data": {
      "text/plain": [
       "'(^https://www.youthatheart.nl/$)|(^https://www.youthatheart.nl/latest/news/2020/10/08/youth-led-research-for-youth-at-heart-virtual-forum$)|(^https://www.youthatheart.nl/latest/news/2020/10/06/young-people-have-to-become-more-politically-involved$)|(^https://www.youthatheart.nl/latest/news/2020/09/29/orange-corners-road-to-youth--at--heart-virtual-forum-sessions$)|(^https://www.youthatheart.nl/latest/news/2020/10/05/5x-how-do-you-experience-the-pandemic-1-lisa-de-pagter$)|(^https://www.youthatheart.nl/programme$)|(^https://www.youthatheart.nl/latest/news/2020/10/14/all-children-have-the-right-to-be-protected-and-respected$)|(^https://www.youthatheart.nl/studio-purple$)|(^https://www.youthatheart.nl/studio-pink/voice$)|(^https://www.youthatheart.nl/studio-pink/orange-corners$)|(^https://www.youthatheart.nl/studio-pink/tribeless-youth$)|(^https://www.youthatheart.nl/studio-blue/unicef-and-generation-unlimited$)|(^https://www.youthatheart.nl/studio-pink/palladium$)|(^https://www.youthatheart.nl/studio-blue/unicef$)|(^https://www.youthatheart.nl/studio-blue/gpe$)|(^https://www.youthatheart.nl/studio-pink/ifad$)|(^https://www.youthatheart.nl/studio-orange/news/2020/10/08/youth-led-research-for-youth-at-heart-virtual-forum$)|(^https://www.youthatheart.nl/studio-orange/generation-unlimited$)|(^https://www.youthatheart.nl/studio-orange/ilo$)|(^https://www.youthatheart.nl/studio-orange/mhpss$)'"
      ]
     },
     "execution_count": 60,
     "metadata": {},
     "output_type": "execute_result"
    }
   ],
   "source": [
    "'|'.join(register_pages)"
   ]
  }
 ],
 "metadata": {
  "kernelspec": {
   "display_name": "Python 3",
   "language": "python",
   "name": "python3"
  },
  "language_info": {
   "codemirror_mode": {
    "name": "ipython",
    "version": 3
   },
   "file_extension": ".py",
   "mimetype": "text/x-python",
   "name": "python",
   "nbconvert_exporter": "python",
   "pygments_lexer": "ipython3",
   "version": "3.7.6"
  }
 },
 "nbformat": 4,
 "nbformat_minor": 4
}
