{
 "cells": [
  {
   "cell_type": "markdown",
   "metadata": {},
   "source": [
    "**Import libraries**"
   ]
  },
  {
   "cell_type": "code",
   "execution_count": 1,
   "metadata": {},
   "outputs": [],
   "source": [
    "from bs4 import BeautifulSoup\n",
    "import pandas as pd\n",
    "from requests import get\n",
    "from itertools import chain\n",
    "from google_trans_new import google_translator \n",
    "from itertools import chain\n",
    "from urllib.parse import urlparse, urljoin, unquote"
   ]
  },
  {
   "cell_type": "markdown",
   "metadata": {},
   "source": [
    "**Get country URLs - Table**"
   ]
  },
  {
   "cell_type": "code",
   "execution_count": 2,
   "metadata": {
    "scrolled": false
   },
   "outputs": [],
   "source": [
    "def scrape_country_urls(url_dict):\n",
    "    \"\"\"\n",
    "    - url_dict: Dictionary containing the urls to scrape as key and language codes as value (dict)\n",
    "    \"\"\"\n",
    "    \n",
    "    # Empty dictionary to store country pages\n",
    "    country_pages = {}\n",
    "\n",
    "    for url, language in url_dict.items():\n",
    "        \n",
    "        # Retrieve HTML from URL\n",
    "        response = get(url)\n",
    "        html_soup = BeautifulSoup(response.text, 'html.parser')\n",
    "\n",
    "        # Search for table elements in HTML\n",
    "        country_container = html_soup.find_all('tr')\n",
    "        \n",
    "        # Translator to convert country name to English\n",
    "        translator = google_translator()\n",
    "            \n",
    "        # Skip first item with no country info\n",
    "        for td in country_container[1:]:\n",
    "                        \n",
    "            # Loop through urls\n",
    "            for url in td.find_all('a'):\n",
    "                \n",
    "                country = translator.translate(td.strong.contents[0], lang_src=language, lang_tgt='en').rstrip()\n",
    "            \n",
    "                # Append the URLs per country name, add country key if not yet in dictionary\n",
    "                country_pages.setdefault(country,[]).append(url.get('href')) \n",
    "        \n",
    "    return country_pages        "
   ]
  },
  {
   "cell_type": "code",
   "execution_count": 3,
   "metadata": {},
   "outputs": [],
   "source": [
    "country_pages = scrape_country_urls({'https://www.nederlandwereldwijd.nl/help/in-welke-taal-communiceert-welk-land': 'nl',\n",
    "                                     'https://www.netherlandsandyou.nl/help/in-welke-taal-communiceert-welk-land---which-language-is-used-for-which-country': 'en'\n",
    "                                    }                                          \n",
    "                                   )"
   ]
  },
  {
   "cell_type": "code",
   "execution_count": 4,
   "metadata": {},
   "outputs": [
    {
     "data": {
      "text/plain": [
       "['https://www.nederlandwereldwijd.nl/landen/duitsland',\n",
       " 'https://www.niederlandeweltweit.nl/laender/deutschland',\n",
       " 'https://www.sieunddieniederlande.nl/ihr-land-und-die-niederlande/deutschland']"
      ]
     },
     "execution_count": 4,
     "metadata": {},
     "output_type": "execute_result"
    }
   ],
   "source": [
    "country_pages['Germany']"
   ]
  },
  {
   "cell_type": "code",
   "execution_count": 5,
   "metadata": {},
   "outputs": [],
   "source": [
    "# Generate usable calculated field for Tableau\n",
    "else_if_list = [f\"ELSEIF CONTAINS([Pw Event Url], \\\"{url}\\\") THEN \\\"{country}\\\"\" for country in country_pages.keys() for url in country_pages[country]]\n",
    "else_if_string = ' '.join(else_if_list)"
   ]
  },
  {
   "cell_type": "markdown",
   "metadata": {},
   "source": [
    "**Get travel URLs - List**"
   ]
  },
  {
   "cell_type": "code",
   "execution_count": 6,
   "metadata": {},
   "outputs": [],
   "source": [
    "def scrape_travel_urls(country_urls):\n",
    "    \n",
    "    \"\"\"\n",
    "    - url_dict: Dictionary containing the country as key and country pages as value (dict)\n",
    "    \"\"\"\n",
    "    \n",
    "    # Lists to store homepage and travel URLs\n",
    "    homepages = []\n",
    "    travel_urls = []\n",
    "    \n",
    "    # Flatten country URLs in dictionary\n",
    "    country_urls_flat = list(chain.from_iterable(list(country_urls.values())))    \n",
    "    \n",
    "    for url in country_urls_flat:\n",
    "        \n",
    "        # Exclude irrelevant urls\n",
    "        if (\n",
    "            ('/landen/' not in url) and ('nederlandwereldwijd' not in url) and\n",
    "            ('netherlandsandyou' not in url) and ('your-country-and-the-netherlands' not in url) and \n",
    "            ('uw-land-en-nederland' not in url) and ('paysbasetvous' not in url) and\n",
    "            ('holandaevoce' not in url) and ('paisesbajosytu' not in url) and\n",
    "            ('sieunddieniederlande' not in url) and ('paisesbajosytu' not in url) \n",
    "           ):\n",
    "                       \n",
    "            \n",
    "            # Get homepage HTML\n",
    "            parsed_uri = urlparse(url)\n",
    "            homepage = '{uri.scheme}://{uri.netloc}/'.format(uri=parsed_uri)\n",
    "                      \n",
    "            # Only scrape unique homepages\n",
    "            if homepage not in homepages:\n",
    "                \n",
    "                response = get(homepage)\n",
    "                html_soup = BeautifulSoup(response.text, 'html.parser')\n",
    "            \n",
    "                # Get travel url \n",
    "                first_nav_item = html_soup.find_all('li', {'class': 'navItem'})[0]\n",
    "                travel_path = first_nav_item.find('a')['href']\n",
    "                full_travel_url = unquote(urljoin(homepage, travel_path))\n",
    "                \n",
    "                # Add to lists\n",
    "                homepages.append(homepage)\n",
    "                travel_urls.append(full_travel_url)\n",
    "    \n",
    "    return travel_urls              "
   ]
  },
  {
   "cell_type": "code",
   "execution_count": 7,
   "metadata": {},
   "outputs": [],
   "source": [
    "travel_urls = scrape_travel_urls(country_pages)"
   ]
  },
  {
   "cell_type": "code",
   "execution_count": 8,
   "metadata": {
    "scrolled": true
   },
   "outputs": [
    {
     "data": {
      "text/plain": [
       "['https://www.netherlandsworldwide.nl/travelling-outside-the-netherlands',\n",
       " 'https://www.paysbasmondial.nl/voyager-a-l’etranger',\n",
       " 'https://www.holandanomundo.nl/viajar',\n",
       " 'https://www.paisesbajosmundial.nl/viajar-fuera-de-los-paises-bajos',\n",
       " 'https://www.niyuhelan.nl/旅游与居住',\n",
       " 'https://www.niederlandeweltweit.nl/reisen',\n",
       " 'https://www.holandawaanta.nl/السفر-والإقامة',\n",
       " 'https://www.belandadananda.nl/perjalanan-menetap',\n",
       " 'https://www.orandatowatashi.nl/ryokou-kyojuu',\n",
       " 'https://www.niderlandy-i-vy.nl/жить-работать',\n",
       " 'https://www.hollandavesen.nl/seyahat-ve-yasam']"
      ]
     },
     "execution_count": 8,
     "metadata": {},
     "output_type": "execute_result"
    }
   ],
   "source": [
    "travel_urls"
   ]
  },
  {
   "cell_type": "code",
   "execution_count": 9,
   "metadata": {},
   "outputs": [
    {
     "data": {
      "text/plain": [
       "'https://www.netherlandsworldwide.nl/travelling-outside-the-netherlands|https://www.paysbasmondial.nl/voyager-a-l’etranger|https://www.holandanomundo.nl/viajar|https://www.paisesbajosmundial.nl/viajar-fuera-de-los-paises-bajos|https://www.niyuhelan.nl/旅游与居住|https://www.niederlandeweltweit.nl/reisen|https://www.holandawaanta.nl/السفر-والإقامة|https://www.belandadananda.nl/perjalanan-menetap|https://www.orandatowatashi.nl/ryokou-kyojuu|https://www.niderlandy-i-vy.nl/жить-работать|https://www.hollandavesen.nl/seyahat-ve-yasam'"
      ]
     },
     "execution_count": 9,
     "metadata": {},
     "output_type": "execute_result"
    }
   ],
   "source": [
    "# Generate usable regex\n",
    "'|'.join(travel_urls)"
   ]
  }
 ],
 "metadata": {
  "kernelspec": {
   "display_name": "Python 3",
   "language": "python",
   "name": "python3"
  },
  "language_info": {
   "codemirror_mode": {
    "name": "ipython",
    "version": 3
   },
   "file_extension": ".py",
   "mimetype": "text/x-python",
   "name": "python",
   "nbconvert_exporter": "python",
   "pygments_lexer": "ipython3",
   "version": "3.8.5"
  }
 },
 "nbformat": 4,
 "nbformat_minor": 4
}
