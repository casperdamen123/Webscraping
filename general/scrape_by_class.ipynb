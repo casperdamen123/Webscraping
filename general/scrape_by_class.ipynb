{
 "cells": [
  {
   "cell_type": "markdown",
   "metadata": {},
   "source": [
    "## Scrape by class"
   ]
  },
  {
   "cell_type": "code",
   "execution_count": 2,
   "metadata": {},
   "outputs": [],
   "source": [
    "from bs4 import BeautifulSoup\n",
    "import pandas as pd\n",
    "from requests import get\n",
    "from pathlib import Path"
   ]
  },
  {
   "cell_type": "code",
   "execution_count": 3,
   "metadata": {},
   "outputs": [],
   "source": [
    "# Define urls to scrape\n",
    "url_list = ['https://www.rijksoverheid.nl/ministeries/ministerie-van-buitenlandse-zaken/het-werk-van-bz-in-de-praktijk/weblogs',\n",
    "            'https://www.rijksoverheid.nl/ministeries/ministerie-van-buitenlandse-zaken/het-werk-van-bz-in-de-praktijk/weblogs?pagina=2'\n",
    "             ]"
   ]
  },
  {
   "cell_type": "code",
   "execution_count": 4,
   "metadata": {},
   "outputs": [],
   "source": [
    "def get_information(url_list):\n",
    "    \n",
    "    weblog_urls = []\n",
    "    dates = []\n",
    "    \n",
    "    for url in url_list:\n",
    "        \n",
    "        # Get response from GET request\n",
    "        response = get(url)\n",
    "        \n",
    "        # Capture HTML from URL\n",
    "        html_soup = BeautifulSoup(response.text, 'html.parser')\n",
    "\n",
    "        # Capture all href's with weblog class\n",
    "        for a in html_soup.find_all('a', {'class': 'weblog'}, href=True):\n",
    "            weblog_urls.append(a['href'])\n",
    "            \n",
    "        # Capture the datetime values per weblog\n",
    "        for m in html_soup.find_all('p', {'class': 'meta'}):\n",
    "            for i in m.find_all('time'):\n",
    "                if i.has_attr('datetime'):\n",
    "                    dates.append(i['datetime'])\n",
    "                  \n",
    "    # Create dataframe   \n",
    "    weblog_df = pd.DataFrame({'url': weblog_urls,\n",
    "                              'date': pd.to_datetime(dates)\n",
    "                             }\n",
    "                            )\n",
    "    \n",
    "    # Return blogs from october and november\n",
    "    return weblog_df[(weblog_df['date'] >= '2020-10-01') & (weblog_df['date'] <= '2020-11-30')]"
   ]
  },
  {
   "cell_type": "code",
   "execution_count": 5,
   "metadata": {
    "scrolled": false
   },
   "outputs": [],
   "source": [
    "weblogs_df = get_information(url_list)"
   ]
  },
  {
   "cell_type": "code",
   "execution_count": 6,
   "metadata": {},
   "outputs": [
    {
     "data": {
      "text/html": [
       "<div>\n",
       "<style scoped>\n",
       "    .dataframe tbody tr th:only-of-type {\n",
       "        vertical-align: middle;\n",
       "    }\n",
       "\n",
       "    .dataframe tbody tr th {\n",
       "        vertical-align: top;\n",
       "    }\n",
       "\n",
       "    .dataframe thead th {\n",
       "        text-align: right;\n",
       "    }\n",
       "</style>\n",
       "<table border=\"1\" class=\"dataframe\">\n",
       "  <thead>\n",
       "    <tr style=\"text-align: right;\">\n",
       "      <th></th>\n",
       "      <th>url</th>\n",
       "      <th>date</th>\n",
       "    </tr>\n",
       "  </thead>\n",
       "  <tbody>\n",
       "    <tr>\n",
       "      <th>2</th>\n",
       "      <td>/ministeries/ministerie-van-buitenlandse-zaken...</td>\n",
       "      <td>2020-11-25</td>\n",
       "    </tr>\n",
       "    <tr>\n",
       "      <th>3</th>\n",
       "      <td>/ministeries/ministerie-van-buitenlandse-zaken...</td>\n",
       "      <td>2020-11-23</td>\n",
       "    </tr>\n",
       "    <tr>\n",
       "      <th>4</th>\n",
       "      <td>/ministeries/ministerie-van-buitenlandse-zaken...</td>\n",
       "      <td>2020-11-22</td>\n",
       "    </tr>\n",
       "    <tr>\n",
       "      <th>5</th>\n",
       "      <td>/ministeries/ministerie-van-buitenlandse-zaken...</td>\n",
       "      <td>2020-11-17</td>\n",
       "    </tr>\n",
       "    <tr>\n",
       "      <th>6</th>\n",
       "      <td>/ministeries/ministerie-van-buitenlandse-zaken...</td>\n",
       "      <td>2020-11-12</td>\n",
       "    </tr>\n",
       "    <tr>\n",
       "      <th>7</th>\n",
       "      <td>/ministeries/ministerie-van-buitenlandse-zaken...</td>\n",
       "      <td>2020-11-05</td>\n",
       "    </tr>\n",
       "    <tr>\n",
       "      <th>8</th>\n",
       "      <td>/ministeries/ministerie-van-buitenlandse-zaken...</td>\n",
       "      <td>2020-11-03</td>\n",
       "    </tr>\n",
       "    <tr>\n",
       "      <th>9</th>\n",
       "      <td>/ministeries/ministerie-van-buitenlandse-zaken...</td>\n",
       "      <td>2020-10-27</td>\n",
       "    </tr>\n",
       "    <tr>\n",
       "      <th>10</th>\n",
       "      <td>/ministeries/ministerie-van-buitenlandse-zaken...</td>\n",
       "      <td>2020-10-21</td>\n",
       "    </tr>\n",
       "    <tr>\n",
       "      <th>11</th>\n",
       "      <td>/ministeries/ministerie-van-buitenlandse-zaken...</td>\n",
       "      <td>2020-10-19</td>\n",
       "    </tr>\n",
       "    <tr>\n",
       "      <th>12</th>\n",
       "      <td>/ministeries/ministerie-van-buitenlandse-zaken...</td>\n",
       "      <td>2020-10-15</td>\n",
       "    </tr>\n",
       "    <tr>\n",
       "      <th>13</th>\n",
       "      <td>/ministeries/ministerie-van-buitenlandse-zaken...</td>\n",
       "      <td>2020-10-12</td>\n",
       "    </tr>\n",
       "    <tr>\n",
       "      <th>14</th>\n",
       "      <td>/ministeries/ministerie-van-buitenlandse-zaken...</td>\n",
       "      <td>2020-10-09</td>\n",
       "    </tr>\n",
       "    <tr>\n",
       "      <th>15</th>\n",
       "      <td>/ministeries/ministerie-van-buitenlandse-zaken...</td>\n",
       "      <td>2020-10-04</td>\n",
       "    </tr>\n",
       "    <tr>\n",
       "      <th>16</th>\n",
       "      <td>/ministeries/ministerie-van-buitenlandse-zaken...</td>\n",
       "      <td>2020-10-02</td>\n",
       "    </tr>\n",
       "  </tbody>\n",
       "</table>\n",
       "</div>"
      ],
      "text/plain": [
       "                                                  url       date\n",
       "2   /ministeries/ministerie-van-buitenlandse-zaken... 2020-11-25\n",
       "3   /ministeries/ministerie-van-buitenlandse-zaken... 2020-11-23\n",
       "4   /ministeries/ministerie-van-buitenlandse-zaken... 2020-11-22\n",
       "5   /ministeries/ministerie-van-buitenlandse-zaken... 2020-11-17\n",
       "6   /ministeries/ministerie-van-buitenlandse-zaken... 2020-11-12\n",
       "7   /ministeries/ministerie-van-buitenlandse-zaken... 2020-11-05\n",
       "8   /ministeries/ministerie-van-buitenlandse-zaken... 2020-11-03\n",
       "9   /ministeries/ministerie-van-buitenlandse-zaken... 2020-10-27\n",
       "10  /ministeries/ministerie-van-buitenlandse-zaken... 2020-10-21\n",
       "11  /ministeries/ministerie-van-buitenlandse-zaken... 2020-10-19\n",
       "12  /ministeries/ministerie-van-buitenlandse-zaken... 2020-10-15\n",
       "13  /ministeries/ministerie-van-buitenlandse-zaken... 2020-10-12\n",
       "14  /ministeries/ministerie-van-buitenlandse-zaken... 2020-10-09\n",
       "15  /ministeries/ministerie-van-buitenlandse-zaken... 2020-10-04\n",
       "16  /ministeries/ministerie-van-buitenlandse-zaken... 2020-10-02"
      ]
     },
     "execution_count": 6,
     "metadata": {},
     "output_type": "execute_result"
    }
   ],
   "source": [
    "weblogs_df"
   ]
  },
  {
   "cell_type": "code",
   "execution_count": 7,
   "metadata": {},
   "outputs": [
    {
     "data": {
      "text/plain": [
       "'/ministeries/ministerie-van-buitenlandse-zaken/het-werk-van-bz-in-de-praktijk/weblogs/2020/restless-development|/ministeries/ministerie-van-buitenlandse-zaken/het-werk-van-bz-in-de-praktijk/weblogs/2020/susana-puerto-gonzalez|/ministeries/ministerie-van-buitenlandse-zaken/het-werk-van-bz-in-de-praktijk/weblogs/2020/tijmen-rooseboom-youth-at-heart|/ministeries/ministerie-van-buitenlandse-zaken/het-werk-van-bz-in-de-praktijk/weblogs/2020/nationale-raad-van-kinderen|/ministeries/ministerie-van-buitenlandse-zaken/het-werk-van-bz-in-de-praktijk/weblogs/2020/brenda-odallo|/ministeries/ministerie-van-buitenlandse-zaken/het-werk-van-bz-in-de-praktijk/weblogs/2020/romana-osman|/ministeries/ministerie-van-buitenlandse-zaken/het-werk-van-bz-in-de-praktijk/weblogs/2020/ramiro-gomes-monteiro|/ministeries/ministerie-van-buitenlandse-zaken/het-werk-van-bz-in-de-praktijk/weblogs/2020/tommie-van-marula-proteen-limited-uganda|/ministeries/ministerie-van-buitenlandse-zaken/het-werk-van-bz-in-de-praktijk/weblogs/2020/bart-beltman-en-tako-de-veth|/ministeries/ministerie-van-buitenlandse-zaken/het-werk-van-bz-in-de-praktijk/weblogs/2020/swapfiets|/ministeries/ministerie-van-buitenlandse-zaken/het-werk-van-bz-in-de-praktijk/weblogs/2020/claudia-pieterse|/ministeries/ministerie-van-buitenlandse-zaken/het-werk-van-bz-in-de-praktijk/weblogs/2020/kristel-groenenboom|/ministeries/ministerie-van-buitenlandse-zaken/het-werk-van-bz-in-de-praktijk/weblogs/2020/jurgen-bartelink-en-wouter-schnitzler|/ministeries/ministerie-van-buitenlandse-zaken/het-werk-van-bz-in-de-praktijk/weblogs/2020/terugblik-avvn-liselot-en-maisha|/ministeries/ministerie-van-buitenlandse-zaken/het-werk-van-bz-in-de-praktijk/weblogs/2020/tjerk-opmeer'"
      ]
     },
     "execution_count": 7,
     "metadata": {},
     "output_type": "execute_result"
    }
   ],
   "source": [
    "# Join to use in regex filter\n",
    "'|'.join(weblogs_df['url'])"
   ]
  }
 ],
 "metadata": {
  "kernelspec": {
   "display_name": "Python 3",
   "language": "python",
   "name": "python3"
  },
  "language_info": {
   "codemirror_mode": {
    "name": "ipython",
    "version": 3
   },
   "file_extension": ".py",
   "mimetype": "text/x-python",
   "name": "python",
   "nbconvert_exporter": "python",
   "pygments_lexer": "ipython3",
   "version": "3.8.5"
  }
 },
 "nbformat": 4,
 "nbformat_minor": 4
}
