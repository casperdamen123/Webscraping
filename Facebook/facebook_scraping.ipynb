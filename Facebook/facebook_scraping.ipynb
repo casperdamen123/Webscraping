{
 "cells": [
  {
   "cell_type": "markdown",
   "metadata": {},
   "source": [
    "# Analyze comments per post"
   ]
  },
  {
   "cell_type": "code",
   "execution_count": 6,
   "metadata": {},
   "outputs": [],
   "source": [
    "import pandas as pd\n",
    "from facebook_scraper import get_posts"
   ]
  },
  {
   "cell_type": "markdown",
   "metadata": {},
   "source": [
    "## Get data from Facebook"
   ]
  },
  {
   "cell_type": "code",
   "execution_count": 5,
   "metadata": {},
   "outputs": [],
   "source": [
    "#Function to retrieve data from timeline\n",
    "def data_from_timeline(user_name, start_date):\n",
    "    '''\n",
    "    Capture post information from specific account. From start date to most recent available posts.\n",
    "    \n",
    "    Returns dataframe containing timestamp, post ID, post URL, post text, comment count, like count and share count.\n",
    "    \n",
    "    Parameters: \n",
    "     - user_name: the ID of the account without @ (str)\n",
    "     - start_date: starting date 'yyyy-mm-dd' (str)\n",
    "    '''\n",
    "\n",
    "    #Create lists to capture timestamp, post ID, post URL, post text, comment count, like count and share count\n",
    "    timestamp_post = []\n",
    "    post_id = []\n",
    "    post_url = []\n",
    "    post_text = []\n",
    "    comments = []\n",
    "    likes = []\n",
    "    shares = []\n",
    "\n",
    "    #Loop through posts and capture information\n",
    "    for post in get_posts(account=user_name, page_limit=None):\n",
    "        \n",
    "        if (post['time'].date() > pd.to_datetime(start_date).date()):\n",
    "            \n",
    "            #Capture needed elements\n",
    "            timestamp_post.append(post['time'])\n",
    "            post_id.append(post['post_id'])\n",
    "            post_url.append(post['post_url'])\n",
    "            post_text.append(post['text'])\n",
    "            comments.append(post['comments'])\n",
    "            likes.append(post['likes']) \n",
    "            shares.append(post['shares'])\n",
    "            \n",
    "        else:\n",
    "            break\n",
    "    \n",
    "    #Create df from lists \n",
    "    final_df = pd.DataFrame({'timestamp_post': timestamp_post,\n",
    "                             'post_id' : post_id,\n",
    "                             'post_url':  post_url,\n",
    "                             'post_text': post_text,\n",
    "                             'comments': comments,\n",
    "                             'likes': likes,\n",
    "                             'shares': shares\n",
    "                             }\n",
    "                            )\n",
    "    return final_df"
   ]
  },
  {
   "cell_type": "code",
   "execution_count": 58,
   "metadata": {
    "scrolled": false
   },
   "outputs": [],
   "source": [
    "df = data_from_timeline(user_name='ministeriebz',\n",
    "                        start_date='2020-07-01'\n",
    "                       )"
   ]
  },
  {
   "cell_type": "code",
   "execution_count": 59,
   "metadata": {},
   "outputs": [
    {
     "data": {
      "text/html": [
       "<div>\n",
       "<style scoped>\n",
       "    .dataframe tbody tr th:only-of-type {\n",
       "        vertical-align: middle;\n",
       "    }\n",
       "\n",
       "    .dataframe tbody tr th {\n",
       "        vertical-align: top;\n",
       "    }\n",
       "\n",
       "    .dataframe thead th {\n",
       "        text-align: right;\n",
       "    }\n",
       "</style>\n",
       "<table border=\"1\" class=\"dataframe\">\n",
       "  <thead>\n",
       "    <tr style=\"text-align: right;\">\n",
       "      <th></th>\n",
       "      <th>timestamp_post</th>\n",
       "      <th>post_id</th>\n",
       "      <th>post_url</th>\n",
       "      <th>post_text</th>\n",
       "      <th>comments</th>\n",
       "      <th>likes</th>\n",
       "      <th>shares</th>\n",
       "    </tr>\n",
       "  </thead>\n",
       "  <tbody>\n",
       "    <tr>\n",
       "      <th>0</th>\n",
       "      <td>2020-10-25 14:31:23</td>\n",
       "      <td>2619278935049430</td>\n",
       "      <td>https://facebook.com/story.php?story_fbid=2619...</td>\n",
       "      <td>Je kunt weer solliciteren voor de opleiding In...</td>\n",
       "      <td>0</td>\n",
       "      <td>16</td>\n",
       "      <td>0</td>\n",
       "    </tr>\n",
       "    <tr>\n",
       "      <th>1</th>\n",
       "      <td>2020-10-24 08:59:45</td>\n",
       "      <td>2617907008519956</td>\n",
       "      <td>https://facebook.com/story.php?story_fbid=2617...</td>\n",
       "      <td>🇺🇳 Vanuit het Vredespaleis vieren we vandaag 7...</td>\n",
       "      <td>1</td>\n",
       "      <td>10</td>\n",
       "      <td>0</td>\n",
       "    </tr>\n",
       "    <tr>\n",
       "      <th>2</th>\n",
       "      <td>2020-10-23 17:26:19</td>\n",
       "      <td>2617272898583367</td>\n",
       "      <td>https://facebook.com/watch?v=1298247357191438</td>\n",
       "      <td>Jongeren wereldwijd worden hard getroffen door...</td>\n",
       "      <td>1</td>\n",
       "      <td>15</td>\n",
       "      <td>0</td>\n",
       "    </tr>\n",
       "    <tr>\n",
       "      <th>3</th>\n",
       "      <td>2020-10-23 11:45:23</td>\n",
       "      <td>2617020261941964</td>\n",
       "      <td>https://facebook.com/story.php?story_fbid=2617...</td>\n",
       "      <td>Vanaf vandaag kun je weer solliciteren voor de...</td>\n",
       "      <td>0</td>\n",
       "      <td>5</td>\n",
       "      <td>3</td>\n",
       "    </tr>\n",
       "    <tr>\n",
       "      <th>4</th>\n",
       "      <td>2020-10-23 09:02:19</td>\n",
       "      <td>2616928531951137</td>\n",
       "      <td>https://facebook.com/story.php?story_fbid=2616...</td>\n",
       "      <td>Tijdens een grote crisis werken een ambassade ...</td>\n",
       "      <td>0</td>\n",
       "      <td>16</td>\n",
       "      <td>0</td>\n",
       "    </tr>\n",
       "  </tbody>\n",
       "</table>\n",
       "</div>"
      ],
      "text/plain": [
       "       timestamp_post           post_id  \\\n",
       "0 2020-10-25 14:31:23  2619278935049430   \n",
       "1 2020-10-24 08:59:45  2617907008519956   \n",
       "2 2020-10-23 17:26:19  2617272898583367   \n",
       "3 2020-10-23 11:45:23  2617020261941964   \n",
       "4 2020-10-23 09:02:19  2616928531951137   \n",
       "\n",
       "                                            post_url  \\\n",
       "0  https://facebook.com/story.php?story_fbid=2619...   \n",
       "1  https://facebook.com/story.php?story_fbid=2617...   \n",
       "2      https://facebook.com/watch?v=1298247357191438   \n",
       "3  https://facebook.com/story.php?story_fbid=2617...   \n",
       "4  https://facebook.com/story.php?story_fbid=2616...   \n",
       "\n",
       "                                           post_text  comments  likes  shares  \n",
       "0  Je kunt weer solliciteren voor de opleiding In...         0     16       0  \n",
       "1  🇺🇳 Vanuit het Vredespaleis vieren we vandaag 7...         1     10       0  \n",
       "2  Jongeren wereldwijd worden hard getroffen door...         1     15       0  \n",
       "3  Vanaf vandaag kun je weer solliciteren voor de...         0      5       3  \n",
       "4  Tijdens een grote crisis werken een ambassade ...         0     16       0  "
      ]
     },
     "execution_count": 59,
     "metadata": {},
     "output_type": "execute_result"
    }
   ],
   "source": [
    "df.head()"
   ]
  },
  {
   "cell_type": "code",
   "execution_count": 60,
   "metadata": {
    "scrolled": false
   },
   "outputs": [
    {
     "data": {
      "text/html": [
       "<div>\n",
       "<style scoped>\n",
       "    .dataframe tbody tr th:only-of-type {\n",
       "        vertical-align: middle;\n",
       "    }\n",
       "\n",
       "    .dataframe tbody tr th {\n",
       "        vertical-align: top;\n",
       "    }\n",
       "\n",
       "    .dataframe thead th {\n",
       "        text-align: right;\n",
       "    }\n",
       "</style>\n",
       "<table border=\"1\" class=\"dataframe\">\n",
       "  <thead>\n",
       "    <tr style=\"text-align: right;\">\n",
       "      <th></th>\n",
       "      <th>timestamp_post</th>\n",
       "      <th>post_id</th>\n",
       "      <th>post_url</th>\n",
       "      <th>post_text</th>\n",
       "      <th>comments</th>\n",
       "      <th>likes</th>\n",
       "      <th>shares</th>\n",
       "    </tr>\n",
       "  </thead>\n",
       "  <tbody>\n",
       "    <tr>\n",
       "      <th>93</th>\n",
       "      <td>2020-07-07 19:32:00</td>\n",
       "      <td>2523738244603500</td>\n",
       "      <td>https://facebook.com/story.php?story_fbid=2523...</td>\n",
       "      <td>🇪🇸 Denk jij aan een vakantie in Spanje? Ga dan...</td>\n",
       "      <td>2</td>\n",
       "      <td>18</td>\n",
       "      <td>15</td>\n",
       "    </tr>\n",
       "    <tr>\n",
       "      <th>94</th>\n",
       "      <td>2020-07-07 13:51:00</td>\n",
       "      <td>2523528241291167</td>\n",
       "      <td>https://facebook.com/story.php?story_fbid=2523...</td>\n",
       "      <td>🍅 Hoe kweek je tomaten midden in de woestijn?\\...</td>\n",
       "      <td>0</td>\n",
       "      <td>19</td>\n",
       "      <td>0</td>\n",
       "    </tr>\n",
       "    <tr>\n",
       "      <th>95</th>\n",
       "      <td>2020-07-05 13:43:06</td>\n",
       "      <td>2521840398126618</td>\n",
       "      <td>https://facebook.com/story.php?story_fbid=2521...</td>\n",
       "      <td>🔎 Buitenlandse Zaken zoekt senior HR-beleidsad...</td>\n",
       "      <td>3</td>\n",
       "      <td>11</td>\n",
       "      <td>0</td>\n",
       "    </tr>\n",
       "    <tr>\n",
       "      <th>96</th>\n",
       "      <td>2020-07-03 10:30:03</td>\n",
       "      <td>2520058454971479</td>\n",
       "      <td>https://facebook.com/story.php?story_fbid=2520...</td>\n",
       "      <td>Wil je naar Italië deze zomer? Neem dan deze t...</td>\n",
       "      <td>20</td>\n",
       "      <td>27</td>\n",
       "      <td>11</td>\n",
       "    </tr>\n",
       "    <tr>\n",
       "      <th>97</th>\n",
       "      <td>2020-07-02 18:24:36</td>\n",
       "      <td>2519535138357144</td>\n",
       "      <td>https://facebook.com/story.php?story_fbid=2519...</td>\n",
       "      <td>Tijdens de coronacrisis zat Anita Dam achter h...</td>\n",
       "      <td>0</td>\n",
       "      <td>51</td>\n",
       "      <td>12</td>\n",
       "    </tr>\n",
       "  </tbody>\n",
       "</table>\n",
       "</div>"
      ],
      "text/plain": [
       "        timestamp_post           post_id  \\\n",
       "93 2020-07-07 19:32:00  2523738244603500   \n",
       "94 2020-07-07 13:51:00  2523528241291167   \n",
       "95 2020-07-05 13:43:06  2521840398126618   \n",
       "96 2020-07-03 10:30:03  2520058454971479   \n",
       "97 2020-07-02 18:24:36  2519535138357144   \n",
       "\n",
       "                                             post_url  \\\n",
       "93  https://facebook.com/story.php?story_fbid=2523...   \n",
       "94  https://facebook.com/story.php?story_fbid=2523...   \n",
       "95  https://facebook.com/story.php?story_fbid=2521...   \n",
       "96  https://facebook.com/story.php?story_fbid=2520...   \n",
       "97  https://facebook.com/story.php?story_fbid=2519...   \n",
       "\n",
       "                                            post_text  comments  likes  shares  \n",
       "93  🇪🇸 Denk jij aan een vakantie in Spanje? Ga dan...         2     18      15  \n",
       "94  🍅 Hoe kweek je tomaten midden in de woestijn?\\...         0     19       0  \n",
       "95  🔎 Buitenlandse Zaken zoekt senior HR-beleidsad...         3     11       0  \n",
       "96  Wil je naar Italië deze zomer? Neem dan deze t...        20     27      11  \n",
       "97  Tijdens de coronacrisis zat Anita Dam achter h...         0     51      12  "
      ]
     },
     "execution_count": 60,
     "metadata": {},
     "output_type": "execute_result"
    }
   ],
   "source": [
    "df.tail()"
   ]
  },
  {
   "cell_type": "code",
   "execution_count": 61,
   "metadata": {},
   "outputs": [
    {
     "name": "stdout",
     "output_type": "stream",
     "text": [
      "<class 'pandas.core.frame.DataFrame'>\n",
      "RangeIndex: 98 entries, 0 to 97\n",
      "Data columns (total 7 columns):\n",
      " #   Column          Non-Null Count  Dtype         \n",
      "---  ------          --------------  -----         \n",
      " 0   timestamp_post  98 non-null     datetime64[ns]\n",
      " 1   post_id         98 non-null     object        \n",
      " 2   post_url        97 non-null     object        \n",
      " 3   post_text       98 non-null     object        \n",
      " 4   comments        98 non-null     int64         \n",
      " 5   likes           98 non-null     int64         \n",
      " 6   shares          98 non-null     int64         \n",
      "dtypes: datetime64[ns](1), int64(3), object(3)\n",
      "memory usage: 5.5+ KB\n"
     ]
    }
   ],
   "source": [
    "df.info()"
   ]
  },
  {
   "cell_type": "markdown",
   "metadata": {},
   "source": [
    "## Pre-process data"
   ]
  },
  {
   "cell_type": "code",
   "execution_count": 7,
   "metadata": {},
   "outputs": [],
   "source": [
    "#Filter posts based on specific text\n",
    "def search_posts(dataf, search_text):\n",
    "    \"\"\"\n",
    "    Parameters: \n",
    "     - dataf: dataframe to filter\n",
    "     - search_text: text to search for in post text\n",
    "    \"\"\"\n",
    "\n",
    "    return dataf[dataf['post_text'].str.contains(search_text)]"
   ]
  },
  {
   "cell_type": "code",
   "execution_count": 66,
   "metadata": {},
   "outputs": [],
   "source": [
    "clean_df = df.pipe(search_posts, 'Duitsland')"
   ]
  },
  {
   "cell_type": "code",
   "execution_count": 67,
   "metadata": {
    "scrolled": false
   },
   "outputs": [
    {
     "data": {
      "text/html": [
       "<div>\n",
       "<style scoped>\n",
       "    .dataframe tbody tr th:only-of-type {\n",
       "        vertical-align: middle;\n",
       "    }\n",
       "\n",
       "    .dataframe tbody tr th {\n",
       "        vertical-align: top;\n",
       "    }\n",
       "\n",
       "    .dataframe thead th {\n",
       "        text-align: right;\n",
       "    }\n",
       "</style>\n",
       "<table border=\"1\" class=\"dataframe\">\n",
       "  <thead>\n",
       "    <tr style=\"text-align: right;\">\n",
       "      <th></th>\n",
       "      <th>timestamp_post</th>\n",
       "      <th>post_id</th>\n",
       "      <th>post_url</th>\n",
       "      <th>post_text</th>\n",
       "      <th>comments</th>\n",
       "      <th>likes</th>\n",
       "      <th>shares</th>\n",
       "    </tr>\n",
       "  </thead>\n",
       "  <tbody>\n",
       "    <tr>\n",
       "      <th>25</th>\n",
       "      <td>2020-10-07 20:49:27</td>\n",
       "      <td>2602898566687467</td>\n",
       "      <td>https://facebook.com/story.php?story_fbid=2602...</td>\n",
       "      <td>Reizigers naar Duitsland moeten een negatieve ...</td>\n",
       "      <td>25</td>\n",
       "      <td>19</td>\n",
       "      <td>0</td>\n",
       "    </tr>\n",
       "    <tr>\n",
       "      <th>29</th>\n",
       "      <td>2020-10-03 14:46:08</td>\n",
       "      <td>2599302417047082</td>\n",
       "      <td>https://facebook.com/story.php?story_fbid=2599...</td>\n",
       "      <td>🇩🇪 Woon je in Nederland, maar werk je in Duits...</td>\n",
       "      <td>80</td>\n",
       "      <td>33</td>\n",
       "      <td>0</td>\n",
       "    </tr>\n",
       "    <tr>\n",
       "      <th>30</th>\n",
       "      <td>2020-10-02 20:52:49</td>\n",
       "      <td>2598682447109079</td>\n",
       "      <td>https://facebook.com/story.php?story_fbid=2598...</td>\n",
       "      <td>🇩🇪 Heb je plannen om naar Duitsland te gaan? L...</td>\n",
       "      <td>635</td>\n",
       "      <td>57</td>\n",
       "      <td>0</td>\n",
       "    </tr>\n",
       "    <tr>\n",
       "      <th>88</th>\n",
       "      <td>2020-07-13 16:28:11</td>\n",
       "      <td>2528553890788602</td>\n",
       "      <td>https://facebook.com/story.php?story_fbid=2528...</td>\n",
       "      <td>🇩🇪 Zin in vakantie bij onze oosterburen? Ga wi...</td>\n",
       "      <td>0</td>\n",
       "      <td>20</td>\n",
       "      <td>7</td>\n",
       "    </tr>\n",
       "  </tbody>\n",
       "</table>\n",
       "</div>"
      ],
      "text/plain": [
       "        timestamp_post           post_id  \\\n",
       "25 2020-10-07 20:49:27  2602898566687467   \n",
       "29 2020-10-03 14:46:08  2599302417047082   \n",
       "30 2020-10-02 20:52:49  2598682447109079   \n",
       "88 2020-07-13 16:28:11  2528553890788602   \n",
       "\n",
       "                                             post_url  \\\n",
       "25  https://facebook.com/story.php?story_fbid=2602...   \n",
       "29  https://facebook.com/story.php?story_fbid=2599...   \n",
       "30  https://facebook.com/story.php?story_fbid=2598...   \n",
       "88  https://facebook.com/story.php?story_fbid=2528...   \n",
       "\n",
       "                                            post_text  comments  likes  shares  \n",
       "25  Reizigers naar Duitsland moeten een negatieve ...        25     19       0  \n",
       "29  🇩🇪 Woon je in Nederland, maar werk je in Duits...        80     33       0  \n",
       "30  🇩🇪 Heb je plannen om naar Duitsland te gaan? L...       635     57       0  \n",
       "88  🇩🇪 Zin in vakantie bij onze oosterburen? Ga wi...         0     20       7  "
      ]
     },
     "execution_count": 67,
     "metadata": {},
     "output_type": "execute_result"
    }
   ],
   "source": [
    "clean_df"
   ]
  },
  {
   "cell_type": "markdown",
   "metadata": {},
   "source": [
    "# Analyze"
   ]
  },
  {
   "cell_type": "code",
   "execution_count": 68,
   "metadata": {},
   "outputs": [
    {
     "data": {
      "text/plain": [
       "740"
      ]
     },
     "execution_count": 68,
     "metadata": {},
     "output_type": "execute_result"
    }
   ],
   "source": [
    "#Sum the total comments for all posts\n",
    "clean_df['comments'].sum()"
   ]
  }
 ],
 "metadata": {
  "kernelspec": {
   "display_name": "Python 3",
   "language": "python",
   "name": "python3"
  },
  "language_info": {
   "codemirror_mode": {
    "name": "ipython",
    "version": 3
   },
   "file_extension": ".py",
   "mimetype": "text/x-python",
   "name": "python",
   "nbconvert_exporter": "python",
   "pygments_lexer": "ipython3",
   "version": "3.7.6"
  }
 },
 "nbformat": 4,
 "nbformat_minor": 4
}
